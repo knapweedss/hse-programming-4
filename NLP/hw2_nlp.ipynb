{
  "nbformat": 4,
  "nbformat_minor": 0,
  "metadata": {
    "colab": {
      "provenance": []
    },
    "kernelspec": {
      "name": "python3",
      "display_name": "Python 3"
    },
    "language_info": {
      "name": "python"
    },
    "widgets": {
      "application/vnd.jupyter.widget-state+json": {
        "2ec0d0b03e534a628caeac28c67206da": {
          "model_module": "@jupyter-widgets/controls",
          "model_name": "HBoxModel",
          "model_module_version": "1.5.0",
          "state": {
            "_dom_classes": [],
            "_model_module": "@jupyter-widgets/controls",
            "_model_module_version": "1.5.0",
            "_model_name": "HBoxModel",
            "_view_count": null,
            "_view_module": "@jupyter-widgets/controls",
            "_view_module_version": "1.5.0",
            "_view_name": "HBoxView",
            "box_style": "",
            "children": [
              "IPY_MODEL_d043b2532ae94035b1cae0f40323660f",
              "IPY_MODEL_6157e0d5119b4d60860aeb118efc6821",
              "IPY_MODEL_9c910f6d9cd84bdeb7ee8208a4a8a02d"
            ],
            "layout": "IPY_MODEL_507f66f841f04754936820bd3495aa8d"
          }
        },
        "d043b2532ae94035b1cae0f40323660f": {
          "model_module": "@jupyter-widgets/controls",
          "model_name": "HTMLModel",
          "model_module_version": "1.5.0",
          "state": {
            "_dom_classes": [],
            "_model_module": "@jupyter-widgets/controls",
            "_model_module_version": "1.5.0",
            "_model_name": "HTMLModel",
            "_view_count": null,
            "_view_module": "@jupyter-widgets/controls",
            "_view_module_version": "1.5.0",
            "_view_name": "HTMLView",
            "description": "",
            "description_tooltip": null,
            "layout": "IPY_MODEL_44ae01447c6d4de085b90ac489dd5a62",
            "placeholder": "​",
            "style": "IPY_MODEL_b0af1ebaff13436e93662cd9401f10cc",
            "value": "100%"
          }
        },
        "6157e0d5119b4d60860aeb118efc6821": {
          "model_module": "@jupyter-widgets/controls",
          "model_name": "FloatProgressModel",
          "model_module_version": "1.5.0",
          "state": {
            "_dom_classes": [],
            "_model_module": "@jupyter-widgets/controls",
            "_model_module_version": "1.5.0",
            "_model_name": "FloatProgressModel",
            "_view_count": null,
            "_view_module": "@jupyter-widgets/controls",
            "_view_module_version": "1.5.0",
            "_view_name": "ProgressView",
            "bar_style": "success",
            "description": "",
            "description_tooltip": null,
            "layout": "IPY_MODEL_c9ea816cf382440b8ec2f40ac5d45947",
            "max": 53258,
            "min": 0,
            "orientation": "horizontal",
            "style": "IPY_MODEL_c4a083887daa42fe87cc0d3ef44f0ff7",
            "value": 53258
          }
        },
        "9c910f6d9cd84bdeb7ee8208a4a8a02d": {
          "model_module": "@jupyter-widgets/controls",
          "model_name": "HTMLModel",
          "model_module_version": "1.5.0",
          "state": {
            "_dom_classes": [],
            "_model_module": "@jupyter-widgets/controls",
            "_model_module_version": "1.5.0",
            "_model_name": "HTMLModel",
            "_view_count": null,
            "_view_module": "@jupyter-widgets/controls",
            "_view_module_version": "1.5.0",
            "_view_name": "HTMLView",
            "description": "",
            "description_tooltip": null,
            "layout": "IPY_MODEL_62e88f4b2671430481faf43b39361747",
            "placeholder": "​",
            "style": "IPY_MODEL_31b40b0b42074f4f8eea530e0a8503b4",
            "value": " 53258/53258 [27:36&lt;00:00, 26.14it/s]"
          }
        },
        "507f66f841f04754936820bd3495aa8d": {
          "model_module": "@jupyter-widgets/base",
          "model_name": "LayoutModel",
          "model_module_version": "1.2.0",
          "state": {
            "_model_module": "@jupyter-widgets/base",
            "_model_module_version": "1.2.0",
            "_model_name": "LayoutModel",
            "_view_count": null,
            "_view_module": "@jupyter-widgets/base",
            "_view_module_version": "1.2.0",
            "_view_name": "LayoutView",
            "align_content": null,
            "align_items": null,
            "align_self": null,
            "border": null,
            "bottom": null,
            "display": null,
            "flex": null,
            "flex_flow": null,
            "grid_area": null,
            "grid_auto_columns": null,
            "grid_auto_flow": null,
            "grid_auto_rows": null,
            "grid_column": null,
            "grid_gap": null,
            "grid_row": null,
            "grid_template_areas": null,
            "grid_template_columns": null,
            "grid_template_rows": null,
            "height": null,
            "justify_content": null,
            "justify_items": null,
            "left": null,
            "margin": null,
            "max_height": null,
            "max_width": null,
            "min_height": null,
            "min_width": null,
            "object_fit": null,
            "object_position": null,
            "order": null,
            "overflow": null,
            "overflow_x": null,
            "overflow_y": null,
            "padding": null,
            "right": null,
            "top": null,
            "visibility": null,
            "width": null
          }
        },
        "44ae01447c6d4de085b90ac489dd5a62": {
          "model_module": "@jupyter-widgets/base",
          "model_name": "LayoutModel",
          "model_module_version": "1.2.0",
          "state": {
            "_model_module": "@jupyter-widgets/base",
            "_model_module_version": "1.2.0",
            "_model_name": "LayoutModel",
            "_view_count": null,
            "_view_module": "@jupyter-widgets/base",
            "_view_module_version": "1.2.0",
            "_view_name": "LayoutView",
            "align_content": null,
            "align_items": null,
            "align_self": null,
            "border": null,
            "bottom": null,
            "display": null,
            "flex": null,
            "flex_flow": null,
            "grid_area": null,
            "grid_auto_columns": null,
            "grid_auto_flow": null,
            "grid_auto_rows": null,
            "grid_column": null,
            "grid_gap": null,
            "grid_row": null,
            "grid_template_areas": null,
            "grid_template_columns": null,
            "grid_template_rows": null,
            "height": null,
            "justify_content": null,
            "justify_items": null,
            "left": null,
            "margin": null,
            "max_height": null,
            "max_width": null,
            "min_height": null,
            "min_width": null,
            "object_fit": null,
            "object_position": null,
            "order": null,
            "overflow": null,
            "overflow_x": null,
            "overflow_y": null,
            "padding": null,
            "right": null,
            "top": null,
            "visibility": null,
            "width": null
          }
        },
        "b0af1ebaff13436e93662cd9401f10cc": {
          "model_module": "@jupyter-widgets/controls",
          "model_name": "DescriptionStyleModel",
          "model_module_version": "1.5.0",
          "state": {
            "_model_module": "@jupyter-widgets/controls",
            "_model_module_version": "1.5.0",
            "_model_name": "DescriptionStyleModel",
            "_view_count": null,
            "_view_module": "@jupyter-widgets/base",
            "_view_module_version": "1.2.0",
            "_view_name": "StyleView",
            "description_width": ""
          }
        },
        "c9ea816cf382440b8ec2f40ac5d45947": {
          "model_module": "@jupyter-widgets/base",
          "model_name": "LayoutModel",
          "model_module_version": "1.2.0",
          "state": {
            "_model_module": "@jupyter-widgets/base",
            "_model_module_version": "1.2.0",
            "_model_name": "LayoutModel",
            "_view_count": null,
            "_view_module": "@jupyter-widgets/base",
            "_view_module_version": "1.2.0",
            "_view_name": "LayoutView",
            "align_content": null,
            "align_items": null,
            "align_self": null,
            "border": null,
            "bottom": null,
            "display": null,
            "flex": null,
            "flex_flow": null,
            "grid_area": null,
            "grid_auto_columns": null,
            "grid_auto_flow": null,
            "grid_auto_rows": null,
            "grid_column": null,
            "grid_gap": null,
            "grid_row": null,
            "grid_template_areas": null,
            "grid_template_columns": null,
            "grid_template_rows": null,
            "height": null,
            "justify_content": null,
            "justify_items": null,
            "left": null,
            "margin": null,
            "max_height": null,
            "max_width": null,
            "min_height": null,
            "min_width": null,
            "object_fit": null,
            "object_position": null,
            "order": null,
            "overflow": null,
            "overflow_x": null,
            "overflow_y": null,
            "padding": null,
            "right": null,
            "top": null,
            "visibility": null,
            "width": null
          }
        },
        "c4a083887daa42fe87cc0d3ef44f0ff7": {
          "model_module": "@jupyter-widgets/controls",
          "model_name": "ProgressStyleModel",
          "model_module_version": "1.5.0",
          "state": {
            "_model_module": "@jupyter-widgets/controls",
            "_model_module_version": "1.5.0",
            "_model_name": "ProgressStyleModel",
            "_view_count": null,
            "_view_module": "@jupyter-widgets/base",
            "_view_module_version": "1.2.0",
            "_view_name": "StyleView",
            "bar_color": null,
            "description_width": ""
          }
        },
        "62e88f4b2671430481faf43b39361747": {
          "model_module": "@jupyter-widgets/base",
          "model_name": "LayoutModel",
          "model_module_version": "1.2.0",
          "state": {
            "_model_module": "@jupyter-widgets/base",
            "_model_module_version": "1.2.0",
            "_model_name": "LayoutModel",
            "_view_count": null,
            "_view_module": "@jupyter-widgets/base",
            "_view_module_version": "1.2.0",
            "_view_name": "LayoutView",
            "align_content": null,
            "align_items": null,
            "align_self": null,
            "border": null,
            "bottom": null,
            "display": null,
            "flex": null,
            "flex_flow": null,
            "grid_area": null,
            "grid_auto_columns": null,
            "grid_auto_flow": null,
            "grid_auto_rows": null,
            "grid_column": null,
            "grid_gap": null,
            "grid_row": null,
            "grid_template_areas": null,
            "grid_template_columns": null,
            "grid_template_rows": null,
            "height": null,
            "justify_content": null,
            "justify_items": null,
            "left": null,
            "margin": null,
            "max_height": null,
            "max_width": null,
            "min_height": null,
            "min_width": null,
            "object_fit": null,
            "object_position": null,
            "order": null,
            "overflow": null,
            "overflow_x": null,
            "overflow_y": null,
            "padding": null,
            "right": null,
            "top": null,
            "visibility": null,
            "width": null
          }
        },
        "31b40b0b42074f4f8eea530e0a8503b4": {
          "model_module": "@jupyter-widgets/controls",
          "model_name": "DescriptionStyleModel",
          "model_module_version": "1.5.0",
          "state": {
            "_model_module": "@jupyter-widgets/controls",
            "_model_module_version": "1.5.0",
            "_model_name": "DescriptionStyleModel",
            "_view_count": null,
            "_view_module": "@jupyter-widgets/base",
            "_view_module_version": "1.2.0",
            "_view_name": "StyleView",
            "description_width": ""
          }
        },
        "95fac0477bc142d0ac4c64992f1f5fa4": {
          "model_module": "@jupyter-widgets/controls",
          "model_name": "HBoxModel",
          "model_module_version": "1.5.0",
          "state": {
            "_dom_classes": [],
            "_model_module": "@jupyter-widgets/controls",
            "_model_module_version": "1.5.0",
            "_model_name": "HBoxModel",
            "_view_count": null,
            "_view_module": "@jupyter-widgets/controls",
            "_view_module_version": "1.5.0",
            "_view_name": "HBoxView",
            "box_style": "",
            "children": [
              "IPY_MODEL_d88fab07106c40e5b06d1bd3cd1e1de1",
              "IPY_MODEL_c57a49677fb44747b2a704bd13130a4c",
              "IPY_MODEL_d7aea95615c64b38958f1df2179ba733"
            ],
            "layout": "IPY_MODEL_56dc580f8fd841a9b5cf1610e68165b8"
          }
        },
        "d88fab07106c40e5b06d1bd3cd1e1de1": {
          "model_module": "@jupyter-widgets/controls",
          "model_name": "HTMLModel",
          "model_module_version": "1.5.0",
          "state": {
            "_dom_classes": [],
            "_model_module": "@jupyter-widgets/controls",
            "_model_module_version": "1.5.0",
            "_model_name": "HTMLModel",
            "_view_count": null,
            "_view_module": "@jupyter-widgets/controls",
            "_view_module_version": "1.5.0",
            "_view_name": "HTMLView",
            "description": "",
            "description_tooltip": null,
            "layout": "IPY_MODEL_dd7c8cb61cfa4a98a14aac6766e27b5f",
            "placeholder": "​",
            "style": "IPY_MODEL_b1e1e8de707c4970865be4bbbd59c690",
            "value": "100%"
          }
        },
        "c57a49677fb44747b2a704bd13130a4c": {
          "model_module": "@jupyter-widgets/controls",
          "model_name": "FloatProgressModel",
          "model_module_version": "1.5.0",
          "state": {
            "_dom_classes": [],
            "_model_module": "@jupyter-widgets/controls",
            "_model_module_version": "1.5.0",
            "_model_name": "FloatProgressModel",
            "_view_count": null,
            "_view_module": "@jupyter-widgets/controls",
            "_view_module_version": "1.5.0",
            "_view_name": "ProgressView",
            "bar_style": "success",
            "description": "",
            "description_tooltip": null,
            "layout": "IPY_MODEL_4a389c7269034bfba86b733c60d421c3",
            "max": 53258,
            "min": 0,
            "orientation": "horizontal",
            "style": "IPY_MODEL_6caa2f4c175540839eefa3ca18b80bc4",
            "value": 53258
          }
        },
        "d7aea95615c64b38958f1df2179ba733": {
          "model_module": "@jupyter-widgets/controls",
          "model_name": "HTMLModel",
          "model_module_version": "1.5.0",
          "state": {
            "_dom_classes": [],
            "_model_module": "@jupyter-widgets/controls",
            "_model_module_version": "1.5.0",
            "_model_name": "HTMLModel",
            "_view_count": null,
            "_view_module": "@jupyter-widgets/controls",
            "_view_module_version": "1.5.0",
            "_view_name": "HTMLView",
            "description": "",
            "description_tooltip": null,
            "layout": "IPY_MODEL_c86800d47248416c8db5368025a64d04",
            "placeholder": "​",
            "style": "IPY_MODEL_2351e8a2ac944fffb95a5924128909d7",
            "value": " 53258/53258 [24:27&lt;00:00, 27.05it/s]"
          }
        },
        "56dc580f8fd841a9b5cf1610e68165b8": {
          "model_module": "@jupyter-widgets/base",
          "model_name": "LayoutModel",
          "model_module_version": "1.2.0",
          "state": {
            "_model_module": "@jupyter-widgets/base",
            "_model_module_version": "1.2.0",
            "_model_name": "LayoutModel",
            "_view_count": null,
            "_view_module": "@jupyter-widgets/base",
            "_view_module_version": "1.2.0",
            "_view_name": "LayoutView",
            "align_content": null,
            "align_items": null,
            "align_self": null,
            "border": null,
            "bottom": null,
            "display": null,
            "flex": null,
            "flex_flow": null,
            "grid_area": null,
            "grid_auto_columns": null,
            "grid_auto_flow": null,
            "grid_auto_rows": null,
            "grid_column": null,
            "grid_gap": null,
            "grid_row": null,
            "grid_template_areas": null,
            "grid_template_columns": null,
            "grid_template_rows": null,
            "height": null,
            "justify_content": null,
            "justify_items": null,
            "left": null,
            "margin": null,
            "max_height": null,
            "max_width": null,
            "min_height": null,
            "min_width": null,
            "object_fit": null,
            "object_position": null,
            "order": null,
            "overflow": null,
            "overflow_x": null,
            "overflow_y": null,
            "padding": null,
            "right": null,
            "top": null,
            "visibility": null,
            "width": null
          }
        },
        "dd7c8cb61cfa4a98a14aac6766e27b5f": {
          "model_module": "@jupyter-widgets/base",
          "model_name": "LayoutModel",
          "model_module_version": "1.2.0",
          "state": {
            "_model_module": "@jupyter-widgets/base",
            "_model_module_version": "1.2.0",
            "_model_name": "LayoutModel",
            "_view_count": null,
            "_view_module": "@jupyter-widgets/base",
            "_view_module_version": "1.2.0",
            "_view_name": "LayoutView",
            "align_content": null,
            "align_items": null,
            "align_self": null,
            "border": null,
            "bottom": null,
            "display": null,
            "flex": null,
            "flex_flow": null,
            "grid_area": null,
            "grid_auto_columns": null,
            "grid_auto_flow": null,
            "grid_auto_rows": null,
            "grid_column": null,
            "grid_gap": null,
            "grid_row": null,
            "grid_template_areas": null,
            "grid_template_columns": null,
            "grid_template_rows": null,
            "height": null,
            "justify_content": null,
            "justify_items": null,
            "left": null,
            "margin": null,
            "max_height": null,
            "max_width": null,
            "min_height": null,
            "min_width": null,
            "object_fit": null,
            "object_position": null,
            "order": null,
            "overflow": null,
            "overflow_x": null,
            "overflow_y": null,
            "padding": null,
            "right": null,
            "top": null,
            "visibility": null,
            "width": null
          }
        },
        "b1e1e8de707c4970865be4bbbd59c690": {
          "model_module": "@jupyter-widgets/controls",
          "model_name": "DescriptionStyleModel",
          "model_module_version": "1.5.0",
          "state": {
            "_model_module": "@jupyter-widgets/controls",
            "_model_module_version": "1.5.0",
            "_model_name": "DescriptionStyleModel",
            "_view_count": null,
            "_view_module": "@jupyter-widgets/base",
            "_view_module_version": "1.2.0",
            "_view_name": "StyleView",
            "description_width": ""
          }
        },
        "4a389c7269034bfba86b733c60d421c3": {
          "model_module": "@jupyter-widgets/base",
          "model_name": "LayoutModel",
          "model_module_version": "1.2.0",
          "state": {
            "_model_module": "@jupyter-widgets/base",
            "_model_module_version": "1.2.0",
            "_model_name": "LayoutModel",
            "_view_count": null,
            "_view_module": "@jupyter-widgets/base",
            "_view_module_version": "1.2.0",
            "_view_name": "LayoutView",
            "align_content": null,
            "align_items": null,
            "align_self": null,
            "border": null,
            "bottom": null,
            "display": null,
            "flex": null,
            "flex_flow": null,
            "grid_area": null,
            "grid_auto_columns": null,
            "grid_auto_flow": null,
            "grid_auto_rows": null,
            "grid_column": null,
            "grid_gap": null,
            "grid_row": null,
            "grid_template_areas": null,
            "grid_template_columns": null,
            "grid_template_rows": null,
            "height": null,
            "justify_content": null,
            "justify_items": null,
            "left": null,
            "margin": null,
            "max_height": null,
            "max_width": null,
            "min_height": null,
            "min_width": null,
            "object_fit": null,
            "object_position": null,
            "order": null,
            "overflow": null,
            "overflow_x": null,
            "overflow_y": null,
            "padding": null,
            "right": null,
            "top": null,
            "visibility": null,
            "width": null
          }
        },
        "6caa2f4c175540839eefa3ca18b80bc4": {
          "model_module": "@jupyter-widgets/controls",
          "model_name": "ProgressStyleModel",
          "model_module_version": "1.5.0",
          "state": {
            "_model_module": "@jupyter-widgets/controls",
            "_model_module_version": "1.5.0",
            "_model_name": "ProgressStyleModel",
            "_view_count": null,
            "_view_module": "@jupyter-widgets/base",
            "_view_module_version": "1.2.0",
            "_view_name": "StyleView",
            "bar_color": null,
            "description_width": ""
          }
        },
        "c86800d47248416c8db5368025a64d04": {
          "model_module": "@jupyter-widgets/base",
          "model_name": "LayoutModel",
          "model_module_version": "1.2.0",
          "state": {
            "_model_module": "@jupyter-widgets/base",
            "_model_module_version": "1.2.0",
            "_model_name": "LayoutModel",
            "_view_count": null,
            "_view_module": "@jupyter-widgets/base",
            "_view_module_version": "1.2.0",
            "_view_name": "LayoutView",
            "align_content": null,
            "align_items": null,
            "align_self": null,
            "border": null,
            "bottom": null,
            "display": null,
            "flex": null,
            "flex_flow": null,
            "grid_area": null,
            "grid_auto_columns": null,
            "grid_auto_flow": null,
            "grid_auto_rows": null,
            "grid_column": null,
            "grid_gap": null,
            "grid_row": null,
            "grid_template_areas": null,
            "grid_template_columns": null,
            "grid_template_rows": null,
            "height": null,
            "justify_content": null,
            "justify_items": null,
            "left": null,
            "margin": null,
            "max_height": null,
            "max_width": null,
            "min_height": null,
            "min_width": null,
            "object_fit": null,
            "object_position": null,
            "order": null,
            "overflow": null,
            "overflow_x": null,
            "overflow_y": null,
            "padding": null,
            "right": null,
            "top": null,
            "visibility": null,
            "width": null
          }
        },
        "2351e8a2ac944fffb95a5924128909d7": {
          "model_module": "@jupyter-widgets/controls",
          "model_name": "DescriptionStyleModel",
          "model_module_version": "1.5.0",
          "state": {
            "_model_module": "@jupyter-widgets/controls",
            "_model_module_version": "1.5.0",
            "_model_name": "DescriptionStyleModel",
            "_view_count": null,
            "_view_module": "@jupyter-widgets/base",
            "_view_module_version": "1.2.0",
            "_view_name": "StyleView",
            "description_width": ""
          }
        },
        "db8eb2dfe4d24219b231dfe63f1be2ce": {
          "model_module": "@jupyter-widgets/controls",
          "model_name": "HBoxModel",
          "model_module_version": "1.5.0",
          "state": {
            "_dom_classes": [],
            "_model_module": "@jupyter-widgets/controls",
            "_model_module_version": "1.5.0",
            "_model_name": "HBoxModel",
            "_view_count": null,
            "_view_module": "@jupyter-widgets/controls",
            "_view_module_version": "1.5.0",
            "_view_name": "HBoxView",
            "box_style": "",
            "children": [
              "IPY_MODEL_18a452604487433292d9b1aa67ddb5ed",
              "IPY_MODEL_5bec9e657f0244fe92bf100c3cf04e0e",
              "IPY_MODEL_adbeb620b7c449bc941ced71953cb76e"
            ],
            "layout": "IPY_MODEL_380dcbe5414e4df4bc5af40f0a168b8c"
          }
        },
        "18a452604487433292d9b1aa67ddb5ed": {
          "model_module": "@jupyter-widgets/controls",
          "model_name": "HTMLModel",
          "model_module_version": "1.5.0",
          "state": {
            "_dom_classes": [],
            "_model_module": "@jupyter-widgets/controls",
            "_model_module_version": "1.5.0",
            "_model_name": "HTMLModel",
            "_view_count": null,
            "_view_module": "@jupyter-widgets/controls",
            "_view_module_version": "1.5.0",
            "_view_name": "HTMLView",
            "description": "",
            "description_tooltip": null,
            "layout": "IPY_MODEL_bb47e598a8c64fe69caae0f02a29e621",
            "placeholder": "​",
            "style": "IPY_MODEL_c6945517e1e448db9710d126d28228c1",
            "value": "100%"
          }
        },
        "5bec9e657f0244fe92bf100c3cf04e0e": {
          "model_module": "@jupyter-widgets/controls",
          "model_name": "FloatProgressModel",
          "model_module_version": "1.5.0",
          "state": {
            "_dom_classes": [],
            "_model_module": "@jupyter-widgets/controls",
            "_model_module_version": "1.5.0",
            "_model_name": "FloatProgressModel",
            "_view_count": null,
            "_view_module": "@jupyter-widgets/controls",
            "_view_module_version": "1.5.0",
            "_view_name": "ProgressView",
            "bar_style": "success",
            "description": "",
            "description_tooltip": null,
            "layout": "IPY_MODEL_03557e2d2cf14e01a065d91a02c13f72",
            "max": 315458,
            "min": 0,
            "orientation": "horizontal",
            "style": "IPY_MODEL_5a6add2e140b4ad0833ad601eff0d52a",
            "value": 315458
          }
        },
        "adbeb620b7c449bc941ced71953cb76e": {
          "model_module": "@jupyter-widgets/controls",
          "model_name": "HTMLModel",
          "model_module_version": "1.5.0",
          "state": {
            "_dom_classes": [],
            "_model_module": "@jupyter-widgets/controls",
            "_model_module_version": "1.5.0",
            "_model_name": "HTMLModel",
            "_view_count": null,
            "_view_module": "@jupyter-widgets/controls",
            "_view_module_version": "1.5.0",
            "_view_name": "HTMLView",
            "description": "",
            "description_tooltip": null,
            "layout": "IPY_MODEL_f2320ba1206a407b9ff6acd3d0ab1746",
            "placeholder": "​",
            "style": "IPY_MODEL_775d037ca383436ead2b628dea93299d",
            "value": " 315458/315458 [45:13&lt;00:00, 116.10it/s]"
          }
        },
        "380dcbe5414e4df4bc5af40f0a168b8c": {
          "model_module": "@jupyter-widgets/base",
          "model_name": "LayoutModel",
          "model_module_version": "1.2.0",
          "state": {
            "_model_module": "@jupyter-widgets/base",
            "_model_module_version": "1.2.0",
            "_model_name": "LayoutModel",
            "_view_count": null,
            "_view_module": "@jupyter-widgets/base",
            "_view_module_version": "1.2.0",
            "_view_name": "LayoutView",
            "align_content": null,
            "align_items": null,
            "align_self": null,
            "border": null,
            "bottom": null,
            "display": null,
            "flex": null,
            "flex_flow": null,
            "grid_area": null,
            "grid_auto_columns": null,
            "grid_auto_flow": null,
            "grid_auto_rows": null,
            "grid_column": null,
            "grid_gap": null,
            "grid_row": null,
            "grid_template_areas": null,
            "grid_template_columns": null,
            "grid_template_rows": null,
            "height": null,
            "justify_content": null,
            "justify_items": null,
            "left": null,
            "margin": null,
            "max_height": null,
            "max_width": null,
            "min_height": null,
            "min_width": null,
            "object_fit": null,
            "object_position": null,
            "order": null,
            "overflow": null,
            "overflow_x": null,
            "overflow_y": null,
            "padding": null,
            "right": null,
            "top": null,
            "visibility": null,
            "width": null
          }
        },
        "bb47e598a8c64fe69caae0f02a29e621": {
          "model_module": "@jupyter-widgets/base",
          "model_name": "LayoutModel",
          "model_module_version": "1.2.0",
          "state": {
            "_model_module": "@jupyter-widgets/base",
            "_model_module_version": "1.2.0",
            "_model_name": "LayoutModel",
            "_view_count": null,
            "_view_module": "@jupyter-widgets/base",
            "_view_module_version": "1.2.0",
            "_view_name": "LayoutView",
            "align_content": null,
            "align_items": null,
            "align_self": null,
            "border": null,
            "bottom": null,
            "display": null,
            "flex": null,
            "flex_flow": null,
            "grid_area": null,
            "grid_auto_columns": null,
            "grid_auto_flow": null,
            "grid_auto_rows": null,
            "grid_column": null,
            "grid_gap": null,
            "grid_row": null,
            "grid_template_areas": null,
            "grid_template_columns": null,
            "grid_template_rows": null,
            "height": null,
            "justify_content": null,
            "justify_items": null,
            "left": null,
            "margin": null,
            "max_height": null,
            "max_width": null,
            "min_height": null,
            "min_width": null,
            "object_fit": null,
            "object_position": null,
            "order": null,
            "overflow": null,
            "overflow_x": null,
            "overflow_y": null,
            "padding": null,
            "right": null,
            "top": null,
            "visibility": null,
            "width": null
          }
        },
        "c6945517e1e448db9710d126d28228c1": {
          "model_module": "@jupyter-widgets/controls",
          "model_name": "DescriptionStyleModel",
          "model_module_version": "1.5.0",
          "state": {
            "_model_module": "@jupyter-widgets/controls",
            "_model_module_version": "1.5.0",
            "_model_name": "DescriptionStyleModel",
            "_view_count": null,
            "_view_module": "@jupyter-widgets/base",
            "_view_module_version": "1.2.0",
            "_view_name": "StyleView",
            "description_width": ""
          }
        },
        "03557e2d2cf14e01a065d91a02c13f72": {
          "model_module": "@jupyter-widgets/base",
          "model_name": "LayoutModel",
          "model_module_version": "1.2.0",
          "state": {
            "_model_module": "@jupyter-widgets/base",
            "_model_module_version": "1.2.0",
            "_model_name": "LayoutModel",
            "_view_count": null,
            "_view_module": "@jupyter-widgets/base",
            "_view_module_version": "1.2.0",
            "_view_name": "LayoutView",
            "align_content": null,
            "align_items": null,
            "align_self": null,
            "border": null,
            "bottom": null,
            "display": null,
            "flex": null,
            "flex_flow": null,
            "grid_area": null,
            "grid_auto_columns": null,
            "grid_auto_flow": null,
            "grid_auto_rows": null,
            "grid_column": null,
            "grid_gap": null,
            "grid_row": null,
            "grid_template_areas": null,
            "grid_template_columns": null,
            "grid_template_rows": null,
            "height": null,
            "justify_content": null,
            "justify_items": null,
            "left": null,
            "margin": null,
            "max_height": null,
            "max_width": null,
            "min_height": null,
            "min_width": null,
            "object_fit": null,
            "object_position": null,
            "order": null,
            "overflow": null,
            "overflow_x": null,
            "overflow_y": null,
            "padding": null,
            "right": null,
            "top": null,
            "visibility": null,
            "width": null
          }
        },
        "5a6add2e140b4ad0833ad601eff0d52a": {
          "model_module": "@jupyter-widgets/controls",
          "model_name": "ProgressStyleModel",
          "model_module_version": "1.5.0",
          "state": {
            "_model_module": "@jupyter-widgets/controls",
            "_model_module_version": "1.5.0",
            "_model_name": "ProgressStyleModel",
            "_view_count": null,
            "_view_module": "@jupyter-widgets/base",
            "_view_module_version": "1.2.0",
            "_view_name": "StyleView",
            "bar_color": null,
            "description_width": ""
          }
        },
        "f2320ba1206a407b9ff6acd3d0ab1746": {
          "model_module": "@jupyter-widgets/base",
          "model_name": "LayoutModel",
          "model_module_version": "1.2.0",
          "state": {
            "_model_module": "@jupyter-widgets/base",
            "_model_module_version": "1.2.0",
            "_model_name": "LayoutModel",
            "_view_count": null,
            "_view_module": "@jupyter-widgets/base",
            "_view_module_version": "1.2.0",
            "_view_name": "LayoutView",
            "align_content": null,
            "align_items": null,
            "align_self": null,
            "border": null,
            "bottom": null,
            "display": null,
            "flex": null,
            "flex_flow": null,
            "grid_area": null,
            "grid_auto_columns": null,
            "grid_auto_flow": null,
            "grid_auto_rows": null,
            "grid_column": null,
            "grid_gap": null,
            "grid_row": null,
            "grid_template_areas": null,
            "grid_template_columns": null,
            "grid_template_rows": null,
            "height": null,
            "justify_content": null,
            "justify_items": null,
            "left": null,
            "margin": null,
            "max_height": null,
            "max_width": null,
            "min_height": null,
            "min_width": null,
            "object_fit": null,
            "object_position": null,
            "order": null,
            "overflow": null,
            "overflow_x": null,
            "overflow_y": null,
            "padding": null,
            "right": null,
            "top": null,
            "visibility": null,
            "width": null
          }
        },
        "775d037ca383436ead2b628dea93299d": {
          "model_module": "@jupyter-widgets/controls",
          "model_name": "DescriptionStyleModel",
          "model_module_version": "1.5.0",
          "state": {
            "_model_module": "@jupyter-widgets/controls",
            "_model_module_version": "1.5.0",
            "_model_name": "DescriptionStyleModel",
            "_view_count": null,
            "_view_module": "@jupyter-widgets/base",
            "_view_module_version": "1.2.0",
            "_view_name": "StyleView",
            "description_width": ""
          }
        },
        "71bfacc3acc0487cb2215b614e178222": {
          "model_module": "@jupyter-widgets/controls",
          "model_name": "HBoxModel",
          "model_module_version": "1.5.0",
          "state": {
            "_dom_classes": [],
            "_model_module": "@jupyter-widgets/controls",
            "_model_module_version": "1.5.0",
            "_model_name": "HBoxModel",
            "_view_count": null,
            "_view_module": "@jupyter-widgets/controls",
            "_view_module_version": "1.5.0",
            "_view_name": "HBoxView",
            "box_style": "",
            "children": [
              "IPY_MODEL_9c964303c91644ff8224720d69fac4f9",
              "IPY_MODEL_63a5c766cdcd4689b77b58ee52f7c064",
              "IPY_MODEL_36c0cb466fec4f15b6cf9c73119669e6"
            ],
            "layout": "IPY_MODEL_7fd44bba23c841f7b4dc7a070f112b25"
          }
        },
        "9c964303c91644ff8224720d69fac4f9": {
          "model_module": "@jupyter-widgets/controls",
          "model_name": "HTMLModel",
          "model_module_version": "1.5.0",
          "state": {
            "_dom_classes": [],
            "_model_module": "@jupyter-widgets/controls",
            "_model_module_version": "1.5.0",
            "_model_name": "HTMLModel",
            "_view_count": null,
            "_view_module": "@jupyter-widgets/controls",
            "_view_module_version": "1.5.0",
            "_view_name": "HTMLView",
            "description": "",
            "description_tooltip": null,
            "layout": "IPY_MODEL_4d0b23d6109c466b85ccc67bfb972b24",
            "placeholder": "​",
            "style": "IPY_MODEL_e66b7ee31c32499893d3ef21be273214",
            "value": "100%"
          }
        },
        "63a5c766cdcd4689b77b58ee52f7c064": {
          "model_module": "@jupyter-widgets/controls",
          "model_name": "FloatProgressModel",
          "model_module_version": "1.5.0",
          "state": {
            "_dom_classes": [],
            "_model_module": "@jupyter-widgets/controls",
            "_model_module_version": "1.5.0",
            "_model_name": "FloatProgressModel",
            "_view_count": null,
            "_view_module": "@jupyter-widgets/controls",
            "_view_module_version": "1.5.0",
            "_view_name": "ProgressView",
            "bar_style": "success",
            "description": "",
            "description_tooltip": null,
            "layout": "IPY_MODEL_dfe994ae75994ee6828e9481778b9835",
            "max": 28,
            "min": 0,
            "orientation": "horizontal",
            "style": "IPY_MODEL_faebb0bf74474976bdb2914c0473df9a",
            "value": 28
          }
        },
        "36c0cb466fec4f15b6cf9c73119669e6": {
          "model_module": "@jupyter-widgets/controls",
          "model_name": "HTMLModel",
          "model_module_version": "1.5.0",
          "state": {
            "_dom_classes": [],
            "_model_module": "@jupyter-widgets/controls",
            "_model_module_version": "1.5.0",
            "_model_name": "HTMLModel",
            "_view_count": null,
            "_view_module": "@jupyter-widgets/controls",
            "_view_module_version": "1.5.0",
            "_view_name": "HTMLView",
            "description": "",
            "description_tooltip": null,
            "layout": "IPY_MODEL_446c97a1f03c4d769f0380d2e8da4b6e",
            "placeholder": "​",
            "style": "IPY_MODEL_964997bd737d4c9ca89580859855c6cc",
            "value": " 28/28 [01:42&lt;00:00,  3.71s/it]"
          }
        },
        "7fd44bba23c841f7b4dc7a070f112b25": {
          "model_module": "@jupyter-widgets/base",
          "model_name": "LayoutModel",
          "model_module_version": "1.2.0",
          "state": {
            "_model_module": "@jupyter-widgets/base",
            "_model_module_version": "1.2.0",
            "_model_name": "LayoutModel",
            "_view_count": null,
            "_view_module": "@jupyter-widgets/base",
            "_view_module_version": "1.2.0",
            "_view_name": "LayoutView",
            "align_content": null,
            "align_items": null,
            "align_self": null,
            "border": null,
            "bottom": null,
            "display": null,
            "flex": null,
            "flex_flow": null,
            "grid_area": null,
            "grid_auto_columns": null,
            "grid_auto_flow": null,
            "grid_auto_rows": null,
            "grid_column": null,
            "grid_gap": null,
            "grid_row": null,
            "grid_template_areas": null,
            "grid_template_columns": null,
            "grid_template_rows": null,
            "height": null,
            "justify_content": null,
            "justify_items": null,
            "left": null,
            "margin": null,
            "max_height": null,
            "max_width": null,
            "min_height": null,
            "min_width": null,
            "object_fit": null,
            "object_position": null,
            "order": null,
            "overflow": null,
            "overflow_x": null,
            "overflow_y": null,
            "padding": null,
            "right": null,
            "top": null,
            "visibility": null,
            "width": null
          }
        },
        "4d0b23d6109c466b85ccc67bfb972b24": {
          "model_module": "@jupyter-widgets/base",
          "model_name": "LayoutModel",
          "model_module_version": "1.2.0",
          "state": {
            "_model_module": "@jupyter-widgets/base",
            "_model_module_version": "1.2.0",
            "_model_name": "LayoutModel",
            "_view_count": null,
            "_view_module": "@jupyter-widgets/base",
            "_view_module_version": "1.2.0",
            "_view_name": "LayoutView",
            "align_content": null,
            "align_items": null,
            "align_self": null,
            "border": null,
            "bottom": null,
            "display": null,
            "flex": null,
            "flex_flow": null,
            "grid_area": null,
            "grid_auto_columns": null,
            "grid_auto_flow": null,
            "grid_auto_rows": null,
            "grid_column": null,
            "grid_gap": null,
            "grid_row": null,
            "grid_template_areas": null,
            "grid_template_columns": null,
            "grid_template_rows": null,
            "height": null,
            "justify_content": null,
            "justify_items": null,
            "left": null,
            "margin": null,
            "max_height": null,
            "max_width": null,
            "min_height": null,
            "min_width": null,
            "object_fit": null,
            "object_position": null,
            "order": null,
            "overflow": null,
            "overflow_x": null,
            "overflow_y": null,
            "padding": null,
            "right": null,
            "top": null,
            "visibility": null,
            "width": null
          }
        },
        "e66b7ee31c32499893d3ef21be273214": {
          "model_module": "@jupyter-widgets/controls",
          "model_name": "DescriptionStyleModel",
          "model_module_version": "1.5.0",
          "state": {
            "_model_module": "@jupyter-widgets/controls",
            "_model_module_version": "1.5.0",
            "_model_name": "DescriptionStyleModel",
            "_view_count": null,
            "_view_module": "@jupyter-widgets/base",
            "_view_module_version": "1.2.0",
            "_view_name": "StyleView",
            "description_width": ""
          }
        },
        "dfe994ae75994ee6828e9481778b9835": {
          "model_module": "@jupyter-widgets/base",
          "model_name": "LayoutModel",
          "model_module_version": "1.2.0",
          "state": {
            "_model_module": "@jupyter-widgets/base",
            "_model_module_version": "1.2.0",
            "_model_name": "LayoutModel",
            "_view_count": null,
            "_view_module": "@jupyter-widgets/base",
            "_view_module_version": "1.2.0",
            "_view_name": "LayoutView",
            "align_content": null,
            "align_items": null,
            "align_self": null,
            "border": null,
            "bottom": null,
            "display": null,
            "flex": null,
            "flex_flow": null,
            "grid_area": null,
            "grid_auto_columns": null,
            "grid_auto_flow": null,
            "grid_auto_rows": null,
            "grid_column": null,
            "grid_gap": null,
            "grid_row": null,
            "grid_template_areas": null,
            "grid_template_columns": null,
            "grid_template_rows": null,
            "height": null,
            "justify_content": null,
            "justify_items": null,
            "left": null,
            "margin": null,
            "max_height": null,
            "max_width": null,
            "min_height": null,
            "min_width": null,
            "object_fit": null,
            "object_position": null,
            "order": null,
            "overflow": null,
            "overflow_x": null,
            "overflow_y": null,
            "padding": null,
            "right": null,
            "top": null,
            "visibility": null,
            "width": null
          }
        },
        "faebb0bf74474976bdb2914c0473df9a": {
          "model_module": "@jupyter-widgets/controls",
          "model_name": "ProgressStyleModel",
          "model_module_version": "1.5.0",
          "state": {
            "_model_module": "@jupyter-widgets/controls",
            "_model_module_version": "1.5.0",
            "_model_name": "ProgressStyleModel",
            "_view_count": null,
            "_view_module": "@jupyter-widgets/base",
            "_view_module_version": "1.2.0",
            "_view_name": "StyleView",
            "bar_color": null,
            "description_width": ""
          }
        },
        "446c97a1f03c4d769f0380d2e8da4b6e": {
          "model_module": "@jupyter-widgets/base",
          "model_name": "LayoutModel",
          "model_module_version": "1.2.0",
          "state": {
            "_model_module": "@jupyter-widgets/base",
            "_model_module_version": "1.2.0",
            "_model_name": "LayoutModel",
            "_view_count": null,
            "_view_module": "@jupyter-widgets/base",
            "_view_module_version": "1.2.0",
            "_view_name": "LayoutView",
            "align_content": null,
            "align_items": null,
            "align_self": null,
            "border": null,
            "bottom": null,
            "display": null,
            "flex": null,
            "flex_flow": null,
            "grid_area": null,
            "grid_auto_columns": null,
            "grid_auto_flow": null,
            "grid_auto_rows": null,
            "grid_column": null,
            "grid_gap": null,
            "grid_row": null,
            "grid_template_areas": null,
            "grid_template_columns": null,
            "grid_template_rows": null,
            "height": null,
            "justify_content": null,
            "justify_items": null,
            "left": null,
            "margin": null,
            "max_height": null,
            "max_width": null,
            "min_height": null,
            "min_width": null,
            "object_fit": null,
            "object_position": null,
            "order": null,
            "overflow": null,
            "overflow_x": null,
            "overflow_y": null,
            "padding": null,
            "right": null,
            "top": null,
            "visibility": null,
            "width": null
          }
        },
        "964997bd737d4c9ca89580859855c6cc": {
          "model_module": "@jupyter-widgets/controls",
          "model_name": "DescriptionStyleModel",
          "model_module_version": "1.5.0",
          "state": {
            "_model_module": "@jupyter-widgets/controls",
            "_model_module_version": "1.5.0",
            "_model_name": "DescriptionStyleModel",
            "_view_count": null,
            "_view_module": "@jupyter-widgets/base",
            "_view_module_version": "1.2.0",
            "_view_name": "StyleView",
            "description_width": ""
          }
        }
      }
    }
  },
  "cells": [
    {
      "cell_type": "markdown",
      "source": [
        "# Скачиваем датасеты"
      ],
      "metadata": {
        "id": "p03hxuA7WXT6"
      }
    },
    {
      "cell_type": "code",
      "source": [
        "! wget --no-check-certificate http://snap.stanford.edu/data/amazon/productGraph/categoryFiles/reviews_Musical_Instruments_5.json.gz\n",
        "! wget --no-check-certificate  https://jmcauley.ucsd.edu/data/amazon_v2/metaFiles2/meta_Musical_Instruments_5.json.gz"
      ],
      "metadata": {
        "colab": {
          "base_uri": "https://localhost:8080/"
        },
        "id": "jNvR7CM3WUq1",
        "outputId": "ca311ad7-8d9f-4793-9707-4a6313864ee9"
      },
      "execution_count": null,
      "outputs": [
        {
          "output_type": "stream",
          "name": "stdout",
          "text": [
            "--2022-12-15 05:59:36--  http://snap.stanford.edu/data/amazon/productGraph/categoryFiles/reviews_Office_Products_5.json.gz\n",
            "Resolving snap.stanford.edu (snap.stanford.edu)... 171.64.75.80\n",
            "Connecting to snap.stanford.edu (snap.stanford.edu)|171.64.75.80|:80... connected.\n",
            "HTTP request sent, awaiting response... 200 OK\n",
            "Length: 18507440 (18M) [application/x-gzip]\n",
            "Saving to: ‘reviews_Office_Products_5.json.gz’\n",
            "\n",
            "reviews_Office_Prod 100%[===================>]  17.65M  15.1MB/s    in 1.2s    \n",
            "\n",
            "2022-12-15 05:59:38 (15.1 MB/s) - ‘reviews_Office_Products_5.json.gz’ saved [18507440/18507440]\n",
            "\n",
            "--2022-12-15 05:59:38--  https://jmcauley.ucsd.edu/data/amazon_v2/metaFiles2/meta_Office_Products.json.gz\n",
            "Resolving jmcauley.ucsd.edu (jmcauley.ucsd.edu)... 137.110.160.73\n",
            "Connecting to jmcauley.ucsd.edu (jmcauley.ucsd.edu)|137.110.160.73|:443... connected.\n",
            "WARNING: cannot verify jmcauley.ucsd.edu's certificate, issued by ‘CN=InCommon RSA Server CA,OU=InCommon,O=Internet2,L=Ann Arbor,ST=MI,C=US’:\n",
            "  Unable to locally verify the issuer's authority.\n",
            "HTTP request sent, awaiting response... 200 OK\n",
            "Length: 511852905 (488M) [application/x-gzip]\n",
            "Saving to: ‘meta_Office_Products.json.gz’\n",
            "\n",
            "meta_Office_Product 100%[===================>] 488.14M  90.0MB/s    in 5.9s    \n",
            "\n",
            "2022-12-15 05:59:44 (83.3 MB/s) - ‘meta_Office_Products.json.gz’ saved [511852905/511852905]\n",
            "\n"
          ]
        }
      ]
    },
    {
      "cell_type": "code",
      "source": [
        "import pandas as pd\n",
        "import gzip\n",
        "\n",
        "def parse(path):\n",
        "  g = gzip.open(path, 'rb')\n",
        "  for l in g:\n",
        "    yield eval(l)\n",
        "\n",
        "def getDF(path):\n",
        "  i = 0\n",
        "  df = {}\n",
        "  for d in parse(path):\n",
        "    df[i] = d\n",
        "    i += 1\n",
        "  return pd.DataFrame.from_dict(df, orient='index')\n",
        "     "
      ],
      "metadata": {
        "id": "uwYlD64bWldp"
      },
      "execution_count": null,
      "outputs": []
    },
    {
      "cell_type": "code",
      "source": [
        "reviews = getDF('reviews_Office_Products_5.json.gz')\n",
        "metadata = getDF('meta_Office_Products.json.gz')"
      ],
      "metadata": {
        "id": "IoMNLfdBXITx"
      },
      "execution_count": null,
      "outputs": []
    },
    {
      "cell_type": "markdown",
      "source": [
        "Посмотрим на данные"
      ],
      "metadata": {
        "id": "QlIoJqXfisfS"
      }
    },
    {
      "cell_type": "code",
      "source": [
        "reviews.head(3)"
      ],
      "metadata": {
        "colab": {
          "base_uri": "https://localhost:8080/",
          "height": 416
        },
        "id": "7RuYIOfDcCd5",
        "outputId": "88e87b84-ce62-4b82-d71e-23744f23f78f"
      },
      "execution_count": null,
      "outputs": [
        {
          "output_type": "execute_result",
          "data": {
            "text/plain": [
              "       reviewerID        asin      reviewerName helpful  \\\n",
              "0  A32T2H8150OJLU  B00000JBLH               ARH  [3, 4]   \n",
              "1  A3MAFS04ZABRGO  B00000JBLH  Let it Be \"Alan\"  [7, 9]   \n",
              "2  A1F1A0QQP2XVH5  B00000JBLH            Mark B  [3, 3]   \n",
              "\n",
              "                                          reviewText  overall  \\\n",
              "0  I bought my first HP12C in about 1984 or so, a...      5.0   \n",
              "1  WHY THIS BELATED REVIEW? I feel very obliged t...      5.0   \n",
              "2  I have an HP 48GX that has been kicking for mo...      2.0   \n",
              "\n",
              "                                             summary  unixReviewTime  \\\n",
              "0            A solid performer, and long time friend      1094169600   \n",
              "1  Price of GOLD is up, so don't bury the golden ...      1197676800   \n",
              "2   Good functionality, but not durable like old HPs      1293840000   \n",
              "\n",
              "    reviewTime  \n",
              "0   09 3, 2004  \n",
              "1  12 15, 2007  \n",
              "2   01 1, 2011  "
            ],
            "text/html": [
              "\n",
              "  <div id=\"df-38b76b74-3dba-44f3-932d-35dede10434a\">\n",
              "    <div class=\"colab-df-container\">\n",
              "      <div>\n",
              "<style scoped>\n",
              "    .dataframe tbody tr th:only-of-type {\n",
              "        vertical-align: middle;\n",
              "    }\n",
              "\n",
              "    .dataframe tbody tr th {\n",
              "        vertical-align: top;\n",
              "    }\n",
              "\n",
              "    .dataframe thead th {\n",
              "        text-align: right;\n",
              "    }\n",
              "</style>\n",
              "<table border=\"1\" class=\"dataframe\">\n",
              "  <thead>\n",
              "    <tr style=\"text-align: right;\">\n",
              "      <th></th>\n",
              "      <th>reviewerID</th>\n",
              "      <th>asin</th>\n",
              "      <th>reviewerName</th>\n",
              "      <th>helpful</th>\n",
              "      <th>reviewText</th>\n",
              "      <th>overall</th>\n",
              "      <th>summary</th>\n",
              "      <th>unixReviewTime</th>\n",
              "      <th>reviewTime</th>\n",
              "    </tr>\n",
              "  </thead>\n",
              "  <tbody>\n",
              "    <tr>\n",
              "      <th>0</th>\n",
              "      <td>A32T2H8150OJLU</td>\n",
              "      <td>B00000JBLH</td>\n",
              "      <td>ARH</td>\n",
              "      <td>[3, 4]</td>\n",
              "      <td>I bought my first HP12C in about 1984 or so, a...</td>\n",
              "      <td>5.0</td>\n",
              "      <td>A solid performer, and long time friend</td>\n",
              "      <td>1094169600</td>\n",
              "      <td>09 3, 2004</td>\n",
              "    </tr>\n",
              "    <tr>\n",
              "      <th>1</th>\n",
              "      <td>A3MAFS04ZABRGO</td>\n",
              "      <td>B00000JBLH</td>\n",
              "      <td>Let it Be \"Alan\"</td>\n",
              "      <td>[7, 9]</td>\n",
              "      <td>WHY THIS BELATED REVIEW? I feel very obliged t...</td>\n",
              "      <td>5.0</td>\n",
              "      <td>Price of GOLD is up, so don't bury the golden ...</td>\n",
              "      <td>1197676800</td>\n",
              "      <td>12 15, 2007</td>\n",
              "    </tr>\n",
              "    <tr>\n",
              "      <th>2</th>\n",
              "      <td>A1F1A0QQP2XVH5</td>\n",
              "      <td>B00000JBLH</td>\n",
              "      <td>Mark B</td>\n",
              "      <td>[3, 3]</td>\n",
              "      <td>I have an HP 48GX that has been kicking for mo...</td>\n",
              "      <td>2.0</td>\n",
              "      <td>Good functionality, but not durable like old HPs</td>\n",
              "      <td>1293840000</td>\n",
              "      <td>01 1, 2011</td>\n",
              "    </tr>\n",
              "  </tbody>\n",
              "</table>\n",
              "</div>\n",
              "      <button class=\"colab-df-convert\" onclick=\"convertToInteractive('df-38b76b74-3dba-44f3-932d-35dede10434a')\"\n",
              "              title=\"Convert this dataframe to an interactive table.\"\n",
              "              style=\"display:none;\">\n",
              "        \n",
              "  <svg xmlns=\"http://www.w3.org/2000/svg\" height=\"24px\"viewBox=\"0 0 24 24\"\n",
              "       width=\"24px\">\n",
              "    <path d=\"M0 0h24v24H0V0z\" fill=\"none\"/>\n",
              "    <path d=\"M18.56 5.44l.94 2.06.94-2.06 2.06-.94-2.06-.94-.94-2.06-.94 2.06-2.06.94zm-11 1L8.5 8.5l.94-2.06 2.06-.94-2.06-.94L8.5 2.5l-.94 2.06-2.06.94zm10 10l.94 2.06.94-2.06 2.06-.94-2.06-.94-.94-2.06-.94 2.06-2.06.94z\"/><path d=\"M17.41 7.96l-1.37-1.37c-.4-.4-.92-.59-1.43-.59-.52 0-1.04.2-1.43.59L10.3 9.45l-7.72 7.72c-.78.78-.78 2.05 0 2.83L4 21.41c.39.39.9.59 1.41.59.51 0 1.02-.2 1.41-.59l7.78-7.78 2.81-2.81c.8-.78.8-2.07 0-2.86zM5.41 20L4 18.59l7.72-7.72 1.47 1.35L5.41 20z\"/>\n",
              "  </svg>\n",
              "      </button>\n",
              "      \n",
              "  <style>\n",
              "    .colab-df-container {\n",
              "      display:flex;\n",
              "      flex-wrap:wrap;\n",
              "      gap: 12px;\n",
              "    }\n",
              "\n",
              "    .colab-df-convert {\n",
              "      background-color: #E8F0FE;\n",
              "      border: none;\n",
              "      border-radius: 50%;\n",
              "      cursor: pointer;\n",
              "      display: none;\n",
              "      fill: #1967D2;\n",
              "      height: 32px;\n",
              "      padding: 0 0 0 0;\n",
              "      width: 32px;\n",
              "    }\n",
              "\n",
              "    .colab-df-convert:hover {\n",
              "      background-color: #E2EBFA;\n",
              "      box-shadow: 0px 1px 2px rgba(60, 64, 67, 0.3), 0px 1px 3px 1px rgba(60, 64, 67, 0.15);\n",
              "      fill: #174EA6;\n",
              "    }\n",
              "\n",
              "    [theme=dark] .colab-df-convert {\n",
              "      background-color: #3B4455;\n",
              "      fill: #D2E3FC;\n",
              "    }\n",
              "\n",
              "    [theme=dark] .colab-df-convert:hover {\n",
              "      background-color: #434B5C;\n",
              "      box-shadow: 0px 1px 3px 1px rgba(0, 0, 0, 0.15);\n",
              "      filter: drop-shadow(0px 1px 2px rgba(0, 0, 0, 0.3));\n",
              "      fill: #FFFFFF;\n",
              "    }\n",
              "  </style>\n",
              "\n",
              "      <script>\n",
              "        const buttonEl =\n",
              "          document.querySelector('#df-38b76b74-3dba-44f3-932d-35dede10434a button.colab-df-convert');\n",
              "        buttonEl.style.display =\n",
              "          google.colab.kernel.accessAllowed ? 'block' : 'none';\n",
              "\n",
              "        async function convertToInteractive(key) {\n",
              "          const element = document.querySelector('#df-38b76b74-3dba-44f3-932d-35dede10434a');\n",
              "          const dataTable =\n",
              "            await google.colab.kernel.invokeFunction('convertToInteractive',\n",
              "                                                     [key], {});\n",
              "          if (!dataTable) return;\n",
              "\n",
              "          const docLinkHtml = 'Like what you see? Visit the ' +\n",
              "            '<a target=\"_blank\" href=https://colab.research.google.com/notebooks/data_table.ipynb>data table notebook</a>'\n",
              "            + ' to learn more about interactive tables.';\n",
              "          element.innerHTML = '';\n",
              "          dataTable['output_type'] = 'display_data';\n",
              "          await google.colab.output.renderOutput(dataTable, element);\n",
              "          const docLink = document.createElement('div');\n",
              "          docLink.innerHTML = docLinkHtml;\n",
              "          element.appendChild(docLink);\n",
              "        }\n",
              "      </script>\n",
              "    </div>\n",
              "  </div>\n",
              "  "
            ]
          },
          "metadata": {},
          "execution_count": 5
        }
      ]
    },
    {
      "cell_type": "code",
      "source": [
        "metadata.head(3)"
      ],
      "metadata": {
        "colab": {
          "base_uri": "https://localhost:8080/",
          "height": 450
        },
        "id": "ergLmq7adJNP",
        "outputId": "90e9b00e-d539-464e-e501-2998360a5b9e"
      },
      "execution_count": null,
      "outputs": [
        {
          "output_type": "execute_result",
          "data": {
            "text/plain": [
              "                                            category  \\\n",
              "0  [Office Products, Office & School Supplies, Ed...   \n",
              "1  [Office Products, Office &amp; School Supplies...   \n",
              "2                                                 []   \n",
              "\n",
              "                                               tech1  \\\n",
              "0   class=\"a-keyvalue prodDetTable\" role=\"present...   \n",
              "1                                                      \n",
              "2   class=\"a-keyvalue prodDetTable\" role=\"present...   \n",
              "\n",
              "                                         description fit  \\\n",
              "0  [Sequential Spelling is based on the classic O...       \n",
              "1                                 [Unusual book, , ]       \n",
              "2  [Pearson MyHistoryLab Online Access Code for A...       \n",
              "\n",
              "                                               title also_buy tech2  \\\n",
              "0  Sequential Spelling Level 1 Bundle with Studen...       []         \n",
              "1  Mathematics, Applications and Concepts, Course...       []         \n",
              "2  Pearson MyHistoryLab Online Access Code for Am...       []         \n",
              "\n",
              "                  brand                                            feature  \\\n",
              "0      STL Distributors                                                 []   \n",
              "1                bailey                                                 []   \n",
              "2  Pearson MyHistoryLab  [Pearson MyHistoryLab Online Access Code for A...   \n",
              "\n",
              "                                                rank  \\\n",
              "0  [>#439,654 in Office Products (See top 100), >...   \n",
              "1                               3,839,628 in Books (   \n",
              "2     [>#1,925,354 in Office Products (See top 100)]   \n",
              "\n",
              "                                           also_view         main_cat  \\\n",
              "0  [1935943065, 1935943073, B00IJH9Q4M, 002115021...  Office Products   \n",
              "1                                                 []            Books   \n",
              "2                                                 []  Office Products   \n",
              "\n",
              "                                        similar_item             date   price  \\\n",
              "0   class=\"a-bordered a-horizontal-stripes  a-spa...  August 15, 2014  $32.90   \n",
              "1                                                                       $8.62   \n",
              "2                                                       June 21, 2012   $0.99   \n",
              "\n",
              "         asin imageURL imageURLHighRes details  \n",
              "0  0012624861       []              []     NaN  \n",
              "1  0078652669       []              []     NaN  \n",
              "2  0136039847       []              []     NaN  "
            ],
            "text/html": [
              "\n",
              "  <div id=\"df-c81d6882-4dc5-4574-9556-23174531b0d1\">\n",
              "    <div class=\"colab-df-container\">\n",
              "      <div>\n",
              "<style scoped>\n",
              "    .dataframe tbody tr th:only-of-type {\n",
              "        vertical-align: middle;\n",
              "    }\n",
              "\n",
              "    .dataframe tbody tr th {\n",
              "        vertical-align: top;\n",
              "    }\n",
              "\n",
              "    .dataframe thead th {\n",
              "        text-align: right;\n",
              "    }\n",
              "</style>\n",
              "<table border=\"1\" class=\"dataframe\">\n",
              "  <thead>\n",
              "    <tr style=\"text-align: right;\">\n",
              "      <th></th>\n",
              "      <th>category</th>\n",
              "      <th>tech1</th>\n",
              "      <th>description</th>\n",
              "      <th>fit</th>\n",
              "      <th>title</th>\n",
              "      <th>also_buy</th>\n",
              "      <th>tech2</th>\n",
              "      <th>brand</th>\n",
              "      <th>feature</th>\n",
              "      <th>rank</th>\n",
              "      <th>also_view</th>\n",
              "      <th>main_cat</th>\n",
              "      <th>similar_item</th>\n",
              "      <th>date</th>\n",
              "      <th>price</th>\n",
              "      <th>asin</th>\n",
              "      <th>imageURL</th>\n",
              "      <th>imageURLHighRes</th>\n",
              "      <th>details</th>\n",
              "    </tr>\n",
              "  </thead>\n",
              "  <tbody>\n",
              "    <tr>\n",
              "      <th>0</th>\n",
              "      <td>[Office Products, Office &amp; School Supplies, Ed...</td>\n",
              "      <td>class=\"a-keyvalue prodDetTable\" role=\"present...</td>\n",
              "      <td>[Sequential Spelling is based on the classic O...</td>\n",
              "      <td></td>\n",
              "      <td>Sequential Spelling Level 1 Bundle with Studen...</td>\n",
              "      <td>[]</td>\n",
              "      <td></td>\n",
              "      <td>STL Distributors</td>\n",
              "      <td>[]</td>\n",
              "      <td>[&gt;#439,654 in Office Products (See top 100), &gt;...</td>\n",
              "      <td>[1935943065, 1935943073, B00IJH9Q4M, 002115021...</td>\n",
              "      <td>Office Products</td>\n",
              "      <td>class=\"a-bordered a-horizontal-stripes  a-spa...</td>\n",
              "      <td>August 15, 2014</td>\n",
              "      <td>$32.90</td>\n",
              "      <td>0012624861</td>\n",
              "      <td>[]</td>\n",
              "      <td>[]</td>\n",
              "      <td>NaN</td>\n",
              "    </tr>\n",
              "    <tr>\n",
              "      <th>1</th>\n",
              "      <td>[Office Products, Office &amp;amp; School Supplies...</td>\n",
              "      <td></td>\n",
              "      <td>[Unusual book, , ]</td>\n",
              "      <td></td>\n",
              "      <td>Mathematics, Applications and Concepts, Course...</td>\n",
              "      <td>[]</td>\n",
              "      <td></td>\n",
              "      <td>bailey</td>\n",
              "      <td>[]</td>\n",
              "      <td>3,839,628 in Books (</td>\n",
              "      <td>[]</td>\n",
              "      <td>Books</td>\n",
              "      <td></td>\n",
              "      <td></td>\n",
              "      <td>$8.62</td>\n",
              "      <td>0078652669</td>\n",
              "      <td>[]</td>\n",
              "      <td>[]</td>\n",
              "      <td>NaN</td>\n",
              "    </tr>\n",
              "    <tr>\n",
              "      <th>2</th>\n",
              "      <td>[]</td>\n",
              "      <td>class=\"a-keyvalue prodDetTable\" role=\"present...</td>\n",
              "      <td>[Pearson MyHistoryLab Online Access Code for A...</td>\n",
              "      <td></td>\n",
              "      <td>Pearson MyHistoryLab Online Access Code for Am...</td>\n",
              "      <td>[]</td>\n",
              "      <td></td>\n",
              "      <td>Pearson MyHistoryLab</td>\n",
              "      <td>[Pearson MyHistoryLab Online Access Code for A...</td>\n",
              "      <td>[&gt;#1,925,354 in Office Products (See top 100)]</td>\n",
              "      <td>[]</td>\n",
              "      <td>Office Products</td>\n",
              "      <td></td>\n",
              "      <td>June 21, 2012</td>\n",
              "      <td>$0.99</td>\n",
              "      <td>0136039847</td>\n",
              "      <td>[]</td>\n",
              "      <td>[]</td>\n",
              "      <td>NaN</td>\n",
              "    </tr>\n",
              "  </tbody>\n",
              "</table>\n",
              "</div>\n",
              "      <button class=\"colab-df-convert\" onclick=\"convertToInteractive('df-c81d6882-4dc5-4574-9556-23174531b0d1')\"\n",
              "              title=\"Convert this dataframe to an interactive table.\"\n",
              "              style=\"display:none;\">\n",
              "        \n",
              "  <svg xmlns=\"http://www.w3.org/2000/svg\" height=\"24px\"viewBox=\"0 0 24 24\"\n",
              "       width=\"24px\">\n",
              "    <path d=\"M0 0h24v24H0V0z\" fill=\"none\"/>\n",
              "    <path d=\"M18.56 5.44l.94 2.06.94-2.06 2.06-.94-2.06-.94-.94-2.06-.94 2.06-2.06.94zm-11 1L8.5 8.5l.94-2.06 2.06-.94-2.06-.94L8.5 2.5l-.94 2.06-2.06.94zm10 10l.94 2.06.94-2.06 2.06-.94-2.06-.94-.94-2.06-.94 2.06-2.06.94z\"/><path d=\"M17.41 7.96l-1.37-1.37c-.4-.4-.92-.59-1.43-.59-.52 0-1.04.2-1.43.59L10.3 9.45l-7.72 7.72c-.78.78-.78 2.05 0 2.83L4 21.41c.39.39.9.59 1.41.59.51 0 1.02-.2 1.41-.59l7.78-7.78 2.81-2.81c.8-.78.8-2.07 0-2.86zM5.41 20L4 18.59l7.72-7.72 1.47 1.35L5.41 20z\"/>\n",
              "  </svg>\n",
              "      </button>\n",
              "      \n",
              "  <style>\n",
              "    .colab-df-container {\n",
              "      display:flex;\n",
              "      flex-wrap:wrap;\n",
              "      gap: 12px;\n",
              "    }\n",
              "\n",
              "    .colab-df-convert {\n",
              "      background-color: #E8F0FE;\n",
              "      border: none;\n",
              "      border-radius: 50%;\n",
              "      cursor: pointer;\n",
              "      display: none;\n",
              "      fill: #1967D2;\n",
              "      height: 32px;\n",
              "      padding: 0 0 0 0;\n",
              "      width: 32px;\n",
              "    }\n",
              "\n",
              "    .colab-df-convert:hover {\n",
              "      background-color: #E2EBFA;\n",
              "      box-shadow: 0px 1px 2px rgba(60, 64, 67, 0.3), 0px 1px 3px 1px rgba(60, 64, 67, 0.15);\n",
              "      fill: #174EA6;\n",
              "    }\n",
              "\n",
              "    [theme=dark] .colab-df-convert {\n",
              "      background-color: #3B4455;\n",
              "      fill: #D2E3FC;\n",
              "    }\n",
              "\n",
              "    [theme=dark] .colab-df-convert:hover {\n",
              "      background-color: #434B5C;\n",
              "      box-shadow: 0px 1px 3px 1px rgba(0, 0, 0, 0.15);\n",
              "      filter: drop-shadow(0px 1px 2px rgba(0, 0, 0, 0.3));\n",
              "      fill: #FFFFFF;\n",
              "    }\n",
              "  </style>\n",
              "\n",
              "      <script>\n",
              "        const buttonEl =\n",
              "          document.querySelector('#df-c81d6882-4dc5-4574-9556-23174531b0d1 button.colab-df-convert');\n",
              "        buttonEl.style.display =\n",
              "          google.colab.kernel.accessAllowed ? 'block' : 'none';\n",
              "\n",
              "        async function convertToInteractive(key) {\n",
              "          const element = document.querySelector('#df-c81d6882-4dc5-4574-9556-23174531b0d1');\n",
              "          const dataTable =\n",
              "            await google.colab.kernel.invokeFunction('convertToInteractive',\n",
              "                                                     [key], {});\n",
              "          if (!dataTable) return;\n",
              "\n",
              "          const docLinkHtml = 'Like what you see? Visit the ' +\n",
              "            '<a target=\"_blank\" href=https://colab.research.google.com/notebooks/data_table.ipynb>data table notebook</a>'\n",
              "            + ' to learn more about interactive tables.';\n",
              "          element.innerHTML = '';\n",
              "          dataTable['output_type'] = 'display_data';\n",
              "          await google.colab.output.renderOutput(dataTable, element);\n",
              "          const docLink = document.createElement('div');\n",
              "          docLink.innerHTML = docLinkHtml;\n",
              "          element.appendChild(docLink);\n",
              "        }\n",
              "      </script>\n",
              "    </div>\n",
              "  </div>\n",
              "  "
            ]
          },
          "metadata": {},
          "execution_count": 6
        }
      ]
    },
    {
      "cell_type": "code",
      "source": [
        "metadata.tail(3)"
      ],
      "metadata": {
        "colab": {
          "base_uri": "https://localhost:8080/",
          "height": 485
        },
        "id": "fwRe--oFwKvt",
        "outputId": "ac5360c2-974d-409c-c187-8510107cc66c"
      },
      "execution_count": null,
      "outputs": [
        {
          "output_type": "execute_result",
          "data": {
            "text/plain": [
              "                                                 category  \\\n",
              "315455  [Office Products, Office & School Supplies, De...   \n",
              "315456                                                 []   \n",
              "315457  [Office Products, Office & School Supplies, Wr...   \n",
              "\n",
              "                                                    tech1  \\\n",
              "315455   class=\"a-keyvalue prodDetTable\" role=\"present...   \n",
              "315456   class=\"a-keyvalue prodDetTable\" role=\"present...   \n",
              "315457   class=\"a-keyvalue prodDetTable\" role=\"present...   \n",
              "\n",
              "                                              description fit  \\\n",
              "315455  [*STYLISH DESIGNED: Great looking high quality...       \n",
              "315456                                                 []       \n",
              "315457  [FULL TRANSPARENT DEMONTRATOR PEN light weight...       \n",
              "\n",
              "                                                    title  \\\n",
              "315455  CatchTheWave Natural Wood Pen Holder Folding S...   \n",
              "315456  1pcs / Set Fashion Cartoon Blue Toy Story Phon...   \n",
              "315457  ( PACK OF 5 ) FELLOWSHIP Full Transparent Desi...   \n",
              "\n",
              "                        also_buy tech2         brand  \\\n",
              "315455  [B00M0FACO2, B000J3X9VU]        CatchTheWave   \n",
              "315456                        []             Lanyard   \n",
              "315457                        []                SRPC   \n",
              "\n",
              "                                                  feature  \\\n",
              "315455  [NO MORE LOST PENS - EASY TO FIND! Fixed place...   \n",
              "315456                                                 []   \n",
              "315457  [Body Material: PLASTIC, SMOOTH WRITING FOUNTA...   \n",
              "\n",
              "                                                     rank  \\\n",
              "315455  [>#307,901 in Office Products (See top 100), >...   \n",
              "315456       [>#749,930 in Office Products (See top 100)]   \n",
              "315457  [>#1,191,960 in Office Products (See top 100),...   \n",
              "\n",
              "                                                also_view         main_cat  \\\n",
              "315455  [B07C6T4HQ1, B01J6DNIBO, B00QX6SEJO, B076Q65VP...  Office Products   \n",
              "315456                                                 []  Office Products   \n",
              "315457                                                 []  Office Products   \n",
              "\n",
              "                                             similar_item             date  \\\n",
              "315455   class=\"a-bordered a-horizontal-stripes  a-spa...    June 25, 2016   \n",
              "315456                                                       July 15, 2016   \n",
              "315457                                                     October 3, 2016   \n",
              "\n",
              "       price        asin                                           imageURL  \\\n",
              "315455        B01HJF6JIA  [https://images-na.ssl-images-amazon.com/image...   \n",
              "315456        B01HJFOEQ4  [https://images-na.ssl-images-amazon.com/image...   \n",
              "315457        B01HJFPBLG  [https://images-na.ssl-images-amazon.com/image...   \n",
              "\n",
              "                                          imageURLHighRes details  \n",
              "315455  [https://images-na.ssl-images-amazon.com/image...      {}  \n",
              "315456  [https://images-na.ssl-images-amazon.com/image...      {}  \n",
              "315457  [https://images-na.ssl-images-amazon.com/image...      {}  "
            ],
            "text/html": [
              "\n",
              "  <div id=\"df-f958b8e4-3f6b-4ca6-b7fe-0e7f3a6181dc\">\n",
              "    <div class=\"colab-df-container\">\n",
              "      <div>\n",
              "<style scoped>\n",
              "    .dataframe tbody tr th:only-of-type {\n",
              "        vertical-align: middle;\n",
              "    }\n",
              "\n",
              "    .dataframe tbody tr th {\n",
              "        vertical-align: top;\n",
              "    }\n",
              "\n",
              "    .dataframe thead th {\n",
              "        text-align: right;\n",
              "    }\n",
              "</style>\n",
              "<table border=\"1\" class=\"dataframe\">\n",
              "  <thead>\n",
              "    <tr style=\"text-align: right;\">\n",
              "      <th></th>\n",
              "      <th>category</th>\n",
              "      <th>tech1</th>\n",
              "      <th>description</th>\n",
              "      <th>fit</th>\n",
              "      <th>title</th>\n",
              "      <th>also_buy</th>\n",
              "      <th>tech2</th>\n",
              "      <th>brand</th>\n",
              "      <th>feature</th>\n",
              "      <th>rank</th>\n",
              "      <th>also_view</th>\n",
              "      <th>main_cat</th>\n",
              "      <th>similar_item</th>\n",
              "      <th>date</th>\n",
              "      <th>price</th>\n",
              "      <th>asin</th>\n",
              "      <th>imageURL</th>\n",
              "      <th>imageURLHighRes</th>\n",
              "      <th>details</th>\n",
              "    </tr>\n",
              "  </thead>\n",
              "  <tbody>\n",
              "    <tr>\n",
              "      <th>315455</th>\n",
              "      <td>[Office Products, Office &amp; School Supplies, De...</td>\n",
              "      <td>class=\"a-keyvalue prodDetTable\" role=\"present...</td>\n",
              "      <td>[*STYLISH DESIGNED: Great looking high quality...</td>\n",
              "      <td></td>\n",
              "      <td>CatchTheWave Natural Wood Pen Holder Folding S...</td>\n",
              "      <td>[B00M0FACO2, B000J3X9VU]</td>\n",
              "      <td></td>\n",
              "      <td>CatchTheWave</td>\n",
              "      <td>[NO MORE LOST PENS - EASY TO FIND! Fixed place...</td>\n",
              "      <td>[&gt;#307,901 in Office Products (See top 100), &gt;...</td>\n",
              "      <td>[B07C6T4HQ1, B01J6DNIBO, B00QX6SEJO, B076Q65VP...</td>\n",
              "      <td>Office Products</td>\n",
              "      <td>class=\"a-bordered a-horizontal-stripes  a-spa...</td>\n",
              "      <td>June 25, 2016</td>\n",
              "      <td></td>\n",
              "      <td>B01HJF6JIA</td>\n",
              "      <td>[https://images-na.ssl-images-amazon.com/image...</td>\n",
              "      <td>[https://images-na.ssl-images-amazon.com/image...</td>\n",
              "      <td>{}</td>\n",
              "    </tr>\n",
              "    <tr>\n",
              "      <th>315456</th>\n",
              "      <td>[]</td>\n",
              "      <td>class=\"a-keyvalue prodDetTable\" role=\"present...</td>\n",
              "      <td>[]</td>\n",
              "      <td></td>\n",
              "      <td>1pcs / Set Fashion Cartoon Blue Toy Story Phon...</td>\n",
              "      <td>[]</td>\n",
              "      <td></td>\n",
              "      <td>Lanyard</td>\n",
              "      <td>[]</td>\n",
              "      <td>[&gt;#749,930 in Office Products (See top 100)]</td>\n",
              "      <td>[]</td>\n",
              "      <td>Office Products</td>\n",
              "      <td></td>\n",
              "      <td>July 15, 2016</td>\n",
              "      <td></td>\n",
              "      <td>B01HJFOEQ4</td>\n",
              "      <td>[https://images-na.ssl-images-amazon.com/image...</td>\n",
              "      <td>[https://images-na.ssl-images-amazon.com/image...</td>\n",
              "      <td>{}</td>\n",
              "    </tr>\n",
              "    <tr>\n",
              "      <th>315457</th>\n",
              "      <td>[Office Products, Office &amp; School Supplies, Wr...</td>\n",
              "      <td>class=\"a-keyvalue prodDetTable\" role=\"present...</td>\n",
              "      <td>[FULL TRANSPARENT DEMONTRATOR PEN light weight...</td>\n",
              "      <td></td>\n",
              "      <td>( PACK OF 5 ) FELLOWSHIP Full Transparent Desi...</td>\n",
              "      <td>[]</td>\n",
              "      <td></td>\n",
              "      <td>SRPC</td>\n",
              "      <td>[Body Material: PLASTIC, SMOOTH WRITING FOUNTA...</td>\n",
              "      <td>[&gt;#1,191,960 in Office Products (See top 100),...</td>\n",
              "      <td>[]</td>\n",
              "      <td>Office Products</td>\n",
              "      <td></td>\n",
              "      <td>October 3, 2016</td>\n",
              "      <td></td>\n",
              "      <td>B01HJFPBLG</td>\n",
              "      <td>[https://images-na.ssl-images-amazon.com/image...</td>\n",
              "      <td>[https://images-na.ssl-images-amazon.com/image...</td>\n",
              "      <td>{}</td>\n",
              "    </tr>\n",
              "  </tbody>\n",
              "</table>\n",
              "</div>\n",
              "      <button class=\"colab-df-convert\" onclick=\"convertToInteractive('df-f958b8e4-3f6b-4ca6-b7fe-0e7f3a6181dc')\"\n",
              "              title=\"Convert this dataframe to an interactive table.\"\n",
              "              style=\"display:none;\">\n",
              "        \n",
              "  <svg xmlns=\"http://www.w3.org/2000/svg\" height=\"24px\"viewBox=\"0 0 24 24\"\n",
              "       width=\"24px\">\n",
              "    <path d=\"M0 0h24v24H0V0z\" fill=\"none\"/>\n",
              "    <path d=\"M18.56 5.44l.94 2.06.94-2.06 2.06-.94-2.06-.94-.94-2.06-.94 2.06-2.06.94zm-11 1L8.5 8.5l.94-2.06 2.06-.94-2.06-.94L8.5 2.5l-.94 2.06-2.06.94zm10 10l.94 2.06.94-2.06 2.06-.94-2.06-.94-.94-2.06-.94 2.06-2.06.94z\"/><path d=\"M17.41 7.96l-1.37-1.37c-.4-.4-.92-.59-1.43-.59-.52 0-1.04.2-1.43.59L10.3 9.45l-7.72 7.72c-.78.78-.78 2.05 0 2.83L4 21.41c.39.39.9.59 1.41.59.51 0 1.02-.2 1.41-.59l7.78-7.78 2.81-2.81c.8-.78.8-2.07 0-2.86zM5.41 20L4 18.59l7.72-7.72 1.47 1.35L5.41 20z\"/>\n",
              "  </svg>\n",
              "      </button>\n",
              "      \n",
              "  <style>\n",
              "    .colab-df-container {\n",
              "      display:flex;\n",
              "      flex-wrap:wrap;\n",
              "      gap: 12px;\n",
              "    }\n",
              "\n",
              "    .colab-df-convert {\n",
              "      background-color: #E8F0FE;\n",
              "      border: none;\n",
              "      border-radius: 50%;\n",
              "      cursor: pointer;\n",
              "      display: none;\n",
              "      fill: #1967D2;\n",
              "      height: 32px;\n",
              "      padding: 0 0 0 0;\n",
              "      width: 32px;\n",
              "    }\n",
              "\n",
              "    .colab-df-convert:hover {\n",
              "      background-color: #E2EBFA;\n",
              "      box-shadow: 0px 1px 2px rgba(60, 64, 67, 0.3), 0px 1px 3px 1px rgba(60, 64, 67, 0.15);\n",
              "      fill: #174EA6;\n",
              "    }\n",
              "\n",
              "    [theme=dark] .colab-df-convert {\n",
              "      background-color: #3B4455;\n",
              "      fill: #D2E3FC;\n",
              "    }\n",
              "\n",
              "    [theme=dark] .colab-df-convert:hover {\n",
              "      background-color: #434B5C;\n",
              "      box-shadow: 0px 1px 3px 1px rgba(0, 0, 0, 0.15);\n",
              "      filter: drop-shadow(0px 1px 2px rgba(0, 0, 0, 0.3));\n",
              "      fill: #FFFFFF;\n",
              "    }\n",
              "  </style>\n",
              "\n",
              "      <script>\n",
              "        const buttonEl =\n",
              "          document.querySelector('#df-f958b8e4-3f6b-4ca6-b7fe-0e7f3a6181dc button.colab-df-convert');\n",
              "        buttonEl.style.display =\n",
              "          google.colab.kernel.accessAllowed ? 'block' : 'none';\n",
              "\n",
              "        async function convertToInteractive(key) {\n",
              "          const element = document.querySelector('#df-f958b8e4-3f6b-4ca6-b7fe-0e7f3a6181dc');\n",
              "          const dataTable =\n",
              "            await google.colab.kernel.invokeFunction('convertToInteractive',\n",
              "                                                     [key], {});\n",
              "          if (!dataTable) return;\n",
              "\n",
              "          const docLinkHtml = 'Like what you see? Visit the ' +\n",
              "            '<a target=\"_blank\" href=https://colab.research.google.com/notebooks/data_table.ipynb>data table notebook</a>'\n",
              "            + ' to learn more about interactive tables.';\n",
              "          element.innerHTML = '';\n",
              "          dataTable['output_type'] = 'display_data';\n",
              "          await google.colab.output.renderOutput(dataTable, element);\n",
              "          const docLink = document.createElement('div');\n",
              "          docLink.innerHTML = docLinkHtml;\n",
              "          element.appendChild(docLink);\n",
              "        }\n",
              "      </script>\n",
              "    </div>\n",
              "  </div>\n",
              "  "
            ]
          },
          "metadata": {},
          "execution_count": 7
        }
      ]
    },
    {
      "cell_type": "markdown",
      "source": [
        "# Способы найти упоминания товаров в отзывах"
      ],
      "metadata": {
        "id": "8rM5nUcwti8B"
      }
    },
    {
      "cell_type": "markdown",
      "source": [
        "1. Можно взять title из metadata, лемматизировать тексты отзывов и найти пересечения - по идее, люди могут реферировать к офисным товарам как раз с использованием их названий в отзывах \n",
        "2. Взять word2vec, вытащить близкие по семантике сущности к 'офисным товарам' (но, мне кажется, тут довольно много слов, которые плохо определятся. Думаю, это бы сработало лучше с категорией одежды/ красоты)\n",
        "3. Выделить ключевые слова из отзывов и по ним вывести морфологические шаблоны (ADJ NOUN), но тут из минусов, как мне кажется, будет выделено много лишнего"
      ],
      "metadata": {
        "id": "jDn6KDqUttFI"
      }
    },
    {
      "cell_type": "markdown",
      "source": [
        "Я возьму 1 способ"
      ],
      "metadata": {
        "id": "hxiKyS_qm1Uw"
      }
    },
    {
      "cell_type": "code",
      "source": [
        "import spacy\n",
        "nlp = spacy.load('en_core_web_sm')"
      ],
      "metadata": {
        "colab": {
          "base_uri": "https://localhost:8080/"
        },
        "id": "I99yRWTJtsYv",
        "outputId": "285b06bc-88dc-408d-b13b-a8ca17062419"
      },
      "execution_count": null,
      "outputs": [
        {
          "output_type": "stream",
          "name": "stderr",
          "text": [
            "/usr/local/lib/python3.8/dist-packages/torch/cuda/__init__.py:497: UserWarning: Can't initialize NVML\n",
            "  warnings.warn(\"Can't initialize NVML\")\n"
          ]
        }
      ]
    },
    {
      "cell_type": "markdown",
      "source": [
        "сначала получим лемматизированные тексты отзывов"
      ],
      "metadata": {
        "id": "DsOlQwojxe2Q"
      }
    },
    {
      "cell_type": "code",
      "source": [
        "import spacy\n",
        "nlp = spacy.load('en_core_web_sm')\n",
        "from string import punctuation, ascii_lowercase, digits\n",
        "from tqdm.auto import tqdm\n",
        "tqdm.pandas()"
      ],
      "metadata": {
        "id": "hiwGjpb8zLqG"
      },
      "execution_count": null,
      "outputs": []
    },
    {
      "cell_type": "code",
      "source": [
        "review_str = reviews.reviewText.str.lower()\n",
        "review_lemm = review_str.progress_apply(lambda x: ' '.join([token.text for token in nlp(x) if token.pos_ != 'PUNCT']))"
      ],
      "metadata": {
        "colab": {
          "base_uri": "https://localhost:8080/",
          "height": 49,
          "referenced_widgets": [
            "2ec0d0b03e534a628caeac28c67206da",
            "d043b2532ae94035b1cae0f40323660f",
            "6157e0d5119b4d60860aeb118efc6821",
            "9c910f6d9cd84bdeb7ee8208a4a8a02d",
            "507f66f841f04754936820bd3495aa8d",
            "44ae01447c6d4de085b90ac489dd5a62",
            "b0af1ebaff13436e93662cd9401f10cc",
            "c9ea816cf382440b8ec2f40ac5d45947",
            "c4a083887daa42fe87cc0d3ef44f0ff7",
            "62e88f4b2671430481faf43b39361747",
            "31b40b0b42074f4f8eea530e0a8503b4"
          ]
        },
        "id": "GXPFQ23bxjMa",
        "outputId": "8355c14a-61d3-4be2-e8d6-fa6552c726f5"
      },
      "execution_count": null,
      "outputs": [
        {
          "output_type": "display_data",
          "data": {
            "text/plain": [
              "  0%|          | 0/53258 [00:00<?, ?it/s]"
            ],
            "application/vnd.jupyter.widget-view+json": {
              "version_major": 2,
              "version_minor": 0,
              "model_id": "2ec0d0b03e534a628caeac28c67206da"
            }
          },
          "metadata": {}
        }
      ]
    },
    {
      "cell_type": "code",
      "source": [
        "review_lemm[19]"
      ],
      "metadata": {
        "colab": {
          "base_uri": "https://localhost:8080/",
          "height": 71
        },
        "id": "qLwqhXvOTU_T",
        "outputId": "ef774298-3ed3-4712-8427-c77f74148000"
      },
      "execution_count": null,
      "outputs": [
        {
          "output_type": "execute_result",
          "data": {
            "text/plain": [
              "\"amazon is totally my school supply go to place they may not have the colors i want but they always have the price 3rd calculator i 've ordered here just like what you buy at the store and usually less expensive\""
            ],
            "application/vnd.google.colaboratory.intrinsic+json": {
              "type": "string"
            }
          },
          "metadata": {},
          "execution_count": 12
        }
      ]
    },
    {
      "cell_type": "code",
      "source": [
        "# сохраним результат в файл, чтобы при перезапуске не ждать снова\n",
        "with open('lemma_rev.txt', 'w') as f:\n",
        "    for line in review_lemm:\n",
        "        f.write(f\"{line}\\n\")"
      ],
      "metadata": {
        "id": "Rkk_5Li_dimR"
      },
      "execution_count": null,
      "outputs": []
    },
    {
      "cell_type": "code",
      "source": [
        "reviews['lemm_text'] = review_lemm"
      ],
      "metadata": {
        "id": "CeDAttyBuP3n"
      },
      "execution_count": null,
      "outputs": []
    },
    {
      "cell_type": "code",
      "source": [
        "from collections import Counter\n",
        "\n",
        "def get_nouns(review):\n",
        "  review_noun = []\n",
        "  for r in tqdm(review):\n",
        "        text = nlp(r)\n",
        "        tokens = [t.text for t in text if t.pos_ == 'NOUN']\n",
        "        review_noun.extend(tokens)\n",
        "  return review_noun"
      ],
      "metadata": {
        "id": "TlBoFer3T-42"
      },
      "execution_count": null,
      "outputs": []
    },
    {
      "cell_type": "code",
      "source": [
        "res = get_nouns(review_lemm) "
      ],
      "metadata": {
        "id": "AzAx6H5Ox7H0",
        "colab": {
          "base_uri": "https://localhost:8080/",
          "height": 49,
          "referenced_widgets": [
            "95fac0477bc142d0ac4c64992f1f5fa4",
            "d88fab07106c40e5b06d1bd3cd1e1de1",
            "c57a49677fb44747b2a704bd13130a4c",
            "d7aea95615c64b38958f1df2179ba733",
            "56dc580f8fd841a9b5cf1610e68165b8",
            "dd7c8cb61cfa4a98a14aac6766e27b5f",
            "b1e1e8de707c4970865be4bbbd59c690",
            "4a389c7269034bfba86b733c60d421c3",
            "6caa2f4c175540839eefa3ca18b80bc4",
            "c86800d47248416c8db5368025a64d04",
            "2351e8a2ac944fffb95a5924128909d7"
          ]
        },
        "outputId": "2d192f6e-1f64-4e7d-e572-f653ce366ee7"
      },
      "execution_count": null,
      "outputs": [
        {
          "output_type": "display_data",
          "data": {
            "text/plain": [
              "  0%|          | 0/53258 [00:00<?, ?it/s]"
            ],
            "application/vnd.jupyter.widget-view+json": {
              "version_major": 2,
              "version_minor": 0,
              "model_id": "95fac0477bc142d0ac4c64992f1f5fa4"
            }
          },
          "metadata": {}
        }
      ]
    },
    {
      "cell_type": "code",
      "source": [
        "# выведем топ-15\n",
        "Counter(res).most_common(15)"
      ],
      "metadata": {
        "colab": {
          "base_uri": "https://localhost:8080/"
        },
        "id": "13h3ribnV0ia",
        "outputId": "05ebbf4e-216c-41e1-bb49-011403f3e233"
      },
      "execution_count": null,
      "outputs": [
        {
          "output_type": "execute_result",
          "data": {
            "text/plain": [
              "[('printer', 32563),\n",
              " ('paper', 26406),\n",
              " ('ink', 17842),\n",
              " ('tape', 15366),\n",
              " ('time', 14694),\n",
              " ('quality', 13793),\n",
              " ('product', 13135),\n",
              " ('labels', 13094),\n",
              " ('color', 11007),\n",
              " ('price', 9767),\n",
              " ('office', 8709),\n",
              " ('size', 8675),\n",
              " ('lot', 8541),\n",
              " ('pen', 8256),\n",
              " ('use', 8246)]"
            ]
          },
          "metadata": {},
          "execution_count": 21
        }
      ]
    },
    {
      "cell_type": "markdown",
      "source": [
        "В целом, выглядит неплохо, но довольно много мусора вроде 'time'"
      ],
      "metadata": {
        "id": "mm--AmJkYOux"
      }
    },
    {
      "cell_type": "markdown",
      "source": [
        "Можно посмотреть, встречаются ли названия брендов в отзывах"
      ],
      "metadata": {
        "id": "-AX2DEkpmCa1"
      }
    },
    {
      "cell_type": "code",
      "source": [
        "import nltk\n",
        "nltk.download('stopwords')\n",
        "from nltk.corpus import stopwords\n",
        "stop_words = set(stopwords.words('english'))\n",
        "from string import punctuation, digits"
      ],
      "metadata": {
        "colab": {
          "base_uri": "https://localhost:8080/"
        },
        "id": "Q0qBvoxqrpJD",
        "outputId": "c87aac7e-8371-4ecb-cc32-5757842f52c2"
      },
      "execution_count": null,
      "outputs": [
        {
          "output_type": "stream",
          "name": "stderr",
          "text": [
            "[nltk_data] Downloading package stopwords to /root/nltk_data...\n",
            "[nltk_data]   Package stopwords is already up-to-date!\n"
          ]
        }
      ]
    },
    {
      "cell_type": "code",
      "source": [
        "def comp_intersection(X):\n",
        "  intersections = []\n",
        "  for brand, rev in X:\n",
        "      b = set(w.lower() for w in brand.split() if not w.lower() \n",
        "                    in stop_words and w not in punctuation and w not in digits)\n",
        "      r = set(rev.split())\n",
        "      intersect = r.intersection(b)\n",
        "      if intersect:\n",
        "        intersections.append(' '.join(list(intersect)))\n",
        "  return intersections"
      ],
      "metadata": {
        "id": "60c7LEE8mBye"
      },
      "execution_count": null,
      "outputs": []
    },
    {
      "cell_type": "code",
      "source": [
        "Counter(comp_intersection(zip(metadata.brand.tolist(), review_lemm))).most_common(15)"
      ],
      "metadata": {
        "colab": {
          "base_uri": "https://localhost:8080/"
        },
        "id": "a9y9n20tn2fF",
        "outputId": "9cb80b7d-59f0-48e6-8e63-6a3da035ed32"
      },
      "execution_count": null,
      "outputs": [
        {
          "output_type": "execute_result",
          "data": {
            "text/plain": [
              "[('paper', 108),\n",
              " ('avery', 87),\n",
              " ('canon', 67),\n",
              " ('office', 47),\n",
              " ('quality', 46),\n",
              " ('hp', 41),\n",
              " ('papers', 40),\n",
              " ('products', 40),\n",
              " ('epson', 28),\n",
              " ('ink', 21),\n",
              " ('page', 17),\n",
              " ('brother', 17),\n",
              " ('time', 12),\n",
              " ('home', 10),\n",
              " ('bic', 10)]"
            ]
          },
          "metadata": {},
          "execution_count": 76
        }
      ]
    },
    {
      "cell_type": "markdown",
      "source": [
        "Названия брендов, конечно, упоминаются, но очень редко относительно объема корпуса (либо, возможно, в отзывах люди склонны использовать не полную форму, а какие-нибудь сокращения)"
      ],
      "metadata": {
        "id": "GUzcSSsFsD_H"
      }
    },
    {
      "cell_type": "markdown",
      "source": [
        "Возьмем пересечения с title из метаданных"
      ],
      "metadata": {
        "id": "X7yCpS4xsqI7"
      }
    },
    {
      "cell_type": "code",
      "source": [
        "title_str = metadata.title.str.lower()\n",
        "title_clear = get_nouns(title_str.tolist())"
      ],
      "metadata": {
        "colab": {
          "base_uri": "https://localhost:8080/",
          "height": 49,
          "referenced_widgets": [
            "db8eb2dfe4d24219b231dfe63f1be2ce",
            "18a452604487433292d9b1aa67ddb5ed",
            "5bec9e657f0244fe92bf100c3cf04e0e",
            "adbeb620b7c449bc941ced71953cb76e",
            "380dcbe5414e4df4bc5af40f0a168b8c",
            "bb47e598a8c64fe69caae0f02a29e621",
            "c6945517e1e448db9710d126d28228c1",
            "03557e2d2cf14e01a065d91a02c13f72",
            "5a6add2e140b4ad0833ad601eff0d52a",
            "f2320ba1206a407b9ff6acd3d0ab1746",
            "775d037ca383436ead2b628dea93299d"
          ]
        },
        "id": "UElUkv_50kWm",
        "outputId": "23052400-154f-40d6-fd91-893f6c549ceb"
      },
      "execution_count": null,
      "outputs": [
        {
          "output_type": "display_data",
          "data": {
            "text/plain": [
              "  0%|          | 0/315458 [00:00<?, ?it/s]"
            ],
            "application/vnd.jupyter.widget-view+json": {
              "version_major": 2,
              "version_minor": 0,
              "model_id": "db8eb2dfe4d24219b231dfe63f1be2ce"
            }
          },
          "metadata": {}
        }
      ]
    },
    {
      "cell_type": "code",
      "source": [
        "Counter(comp_intersection(zip(title_clear, review_lemm))).most_common(10)"
      ],
      "metadata": {
        "colab": {
          "base_uri": "https://localhost:8080/"
        },
        "id": "Mr2jI5CDsvYi",
        "outputId": "7c4a9ce6-2ee8-412b-9fdc-09230b8ee7ae"
      },
      "execution_count": null,
      "outputs": [
        {
          "output_type": "execute_result",
          "data": {
            "text/plain": [
              "[('paper', 169),\n",
              " ('ink', 83),\n",
              " ('printer', 62),\n",
              " ('color', 61),\n",
              " ('size', 61),\n",
              " ('box', 43),\n",
              " ('sheets', 33),\n",
              " ('pack', 32),\n",
              " ('tape', 28),\n",
              " ('set', 26)]"
            ]
          },
          "metadata": {},
          "execution_count": 105
        }
      ]
    },
    {
      "cell_type": "markdown",
      "source": [
        "А вот это похоже на реальные категории! Только можно вручную убрать size"
      ],
      "metadata": {
        "id": "73O-RSwsNzdM"
      }
    },
    {
      "cell_type": "code",
      "source": [
        "# сохраним топ-5 на будущее, тк нужна будет группировка  по категориям\n",
        "office_products = [name for name, count in Counter(comp_intersection(zip(title_clear, review_lemm))).most_common(7) ]\n",
        "office_products.remove('size')\n",
        "office_products.remove('color')"
      ],
      "metadata": {
        "id": "-WfJS-uZ0Zdv"
      },
      "execution_count": null,
      "outputs": []
    },
    {
      "cell_type": "code",
      "source": [
        "office_products"
      ],
      "metadata": {
        "colab": {
          "base_uri": "https://localhost:8080/"
        },
        "id": "rg7Bno0jOV_G",
        "outputId": "17d0a1c7-95eb-4130-cf8b-9a6913efb1be"
      },
      "execution_count": null,
      "outputs": [
        {
          "output_type": "execute_result",
          "data": {
            "text/plain": [
              "['paper', 'ink', 'printer', 'box', 'sheets']"
            ]
          },
          "metadata": {},
          "execution_count": 214
        }
      ]
    },
    {
      "cell_type": "markdown",
      "source": [
        "# N-граммы"
      ],
      "metadata": {
        "id": "ePMCNptTtgZY"
      }
    },
    {
      "cell_type": "markdown",
      "source": [
        "### биграммы"
      ],
      "metadata": {
        "id": "PviDe2_Lptk5"
      }
    },
    {
      "cell_type": "code",
      "source": [
        "from nltk.collocations import *\n",
        "from nltk.util import ngrams"
      ],
      "metadata": {
        "id": "oH4FG8bCtfU4"
      },
      "execution_count": null,
      "outputs": []
    },
    {
      "cell_type": "code",
      "source": [
        "def get_ngrams(text, n):\n",
        "    n_grams = ngrams(text, n)\n",
        "    return [ ' '.join(grams) for grams in n_grams]"
      ],
      "metadata": {
        "id": "UZfC9gONxH1y"
      },
      "execution_count": null,
      "outputs": []
    },
    {
      "cell_type": "code",
      "source": [
        "bigram = get_ngrams(' '.join(reviews['lemm_text']).split(), 2)"
      ],
      "metadata": {
        "id": "YlvNxIfgtIUL"
      },
      "execution_count": null,
      "outputs": []
    },
    {
      "cell_type": "code",
      "source": [
        "# попробуем собрать бигграммы для бумаги вне функции\n",
        "office_products[0]\n",
        "paper = []\n",
        "for b in Counter(bigram).most_common():\n",
        "  if office_products[0] in b[0]:\n",
        "    # хорошо бы еще почистить от стоп-слов\n",
        "    if not any(word in stop_words for word in b[0].split()):\n",
        "        paper.append(b[0])"
      ],
      "metadata": {
        "id": "-qvFNpUMuwTr"
      },
      "execution_count": null,
      "outputs": []
    },
    {
      "cell_type": "code",
      "source": [
        "paper[20] "
      ],
      "metadata": {
        "colab": {
          "base_uri": "https://localhost:8080/",
          "height": 35
        },
        "id": "pO7OJ8BczkB_",
        "outputId": "8551e6dd-8eef-4955-a805-ddd468f72b81"
      },
      "execution_count": null,
      "outputs": [
        {
          "output_type": "execute_result",
          "data": {
            "text/plain": [
              "'recycled paper'"
            ],
            "application/vnd.google.colaboratory.intrinsic+json": {
              "type": "string"
            }
          },
          "metadata": {},
          "execution_count": 218
        }
      ]
    },
    {
      "cell_type": "code",
      "source": [
        "def get_bigrams(product):\n",
        "  l = []\n",
        "  for b in Counter(bigram).most_common():\n",
        "    if product in b[0]:\n",
        "      # хорошо бы еще почистить от стоп-слов\n",
        "      if not any(word in stop_words for word in b[0].split()):\n",
        "          l.append(b[0])\n",
        "  return l"
      ],
      "metadata": {
        "id": "SsKnWMTtmRt3"
      },
      "execution_count": null,
      "outputs": []
    },
    {
      "cell_type": "code",
      "source": [
        "office_products"
      ],
      "metadata": {
        "id": "jPMv9yvEc6se",
        "colab": {
          "base_uri": "https://localhost:8080/"
        },
        "outputId": "60d2cfde-3088-4786-c3a5-9ebb7c861cf7"
      },
      "execution_count": null,
      "outputs": [
        {
          "output_type": "execute_result",
          "data": {
            "text/plain": [
              "['paper', 'ink', 'printer', 'box', 'sheets']"
            ]
          },
          "metadata": {},
          "execution_count": 220
        }
      ]
    },
    {
      "cell_type": "code",
      "source": [
        "ink = get_bigrams('ink')\n",
        "ink[0]"
      ],
      "metadata": {
        "colab": {
          "base_uri": "https://localhost:8080/",
          "height": 35
        },
        "id": "QVCa9gYtxb0g",
        "outputId": "2dd04011-3351-472b-ca03-42d50f50d40c"
      },
      "execution_count": null,
      "outputs": [
        {
          "output_type": "execute_result",
          "data": {
            "text/plain": [
              "'ink cartridges'"
            ],
            "application/vnd.google.colaboratory.intrinsic+json": {
              "type": "string"
            }
          },
          "metadata": {},
          "execution_count": 221
        }
      ]
    },
    {
      "cell_type": "code",
      "source": [
        "printer = get_bigrams('printer')\n",
        "box =  get_bigrams('box')\n",
        "sheets = get_bigrams('sheets')"
      ],
      "metadata": {
        "id": "yhNWJh7NnAT-"
      },
      "execution_count": null,
      "outputs": []
    },
    {
      "cell_type": "code",
      "source": [
        "print(len(ink), len(paper), len(printer), len(box), len(sheets))"
      ],
      "metadata": {
        "colab": {
          "base_uri": "https://localhost:8080/"
        },
        "id": "7V_4bIKSoClm",
        "outputId": "21872b1a-a046-4508-eecf-4a8d90a94f40"
      },
      "execution_count": null,
      "outputs": [
        {
          "output_type": "stream",
          "name": "stdout",
          "text": [
            "7973 7527 6555 3498 1522\n"
          ]
        }
      ]
    },
    {
      "cell_type": "code",
      "source": [
        "ink = ink[0:1500]\n",
        "paper = paper[0:1500]\n",
        "printer = printer[0:1500]\n",
        "box = box[0:1500]\n",
        "sheets = sheets[0:1500]"
      ],
      "metadata": {
        "id": "zA3HmrxAoclT"
      },
      "execution_count": null,
      "outputs": []
    },
    {
      "cell_type": "code",
      "source": [
        "df_bigram = pd.DataFrame({ \n",
        "    'ink': ink,\n",
        "    'paper': paper,\n",
        "    'printer': printer,\n",
        "    'box': box,\n",
        "    'sheets': sheets })         "
      ],
      "metadata": {
        "id": "Vqm7miHXoURT"
      },
      "execution_count": null,
      "outputs": []
    },
    {
      "cell_type": "code",
      "source": [
        "df_bigram.tail(5)"
      ],
      "metadata": {
        "colab": {
          "base_uri": "https://localhost:8080/",
          "height": 206
        },
        "id": "xVuuu8OTo4Ws",
        "outputId": "59764935-95b3-410a-8e5c-a598920c33a2"
      },
      "execution_count": null,
      "outputs": [
        {
          "output_type": "execute_result",
          "data": {
            "text/plain": [
              "                   ink            paper             printer  \\\n",
              "1495         ink stain  sticking papers   equipment printer   \n",
              "1496  replacing inkjet   labeling paper  printers initially   \n",
              "1497        paper/ ink     square paper     printer retails   \n",
              "1498            link [   paper involved       printers plus   \n",
              "1499           ink owl   delicate paper     pro9500 printer   \n",
              "\n",
              "                      box                 sheets  \n",
              "1495  boxes closed.scotch       sheets amazing.i  \n",
              "1496         boxes stable     turning sheets.you  \n",
              "1497           boxes nice         lighter sheets  \n",
              "1498          holds boxes            40 sheets.i  \n",
              "1499   boxes particularly  sheets.i successfully  "
            ],
            "text/html": [
              "\n",
              "  <div id=\"df-9b7e1d5b-7387-4c60-8bb4-b74c944e8257\">\n",
              "    <div class=\"colab-df-container\">\n",
              "      <div>\n",
              "<style scoped>\n",
              "    .dataframe tbody tr th:only-of-type {\n",
              "        vertical-align: middle;\n",
              "    }\n",
              "\n",
              "    .dataframe tbody tr th {\n",
              "        vertical-align: top;\n",
              "    }\n",
              "\n",
              "    .dataframe thead th {\n",
              "        text-align: right;\n",
              "    }\n",
              "</style>\n",
              "<table border=\"1\" class=\"dataframe\">\n",
              "  <thead>\n",
              "    <tr style=\"text-align: right;\">\n",
              "      <th></th>\n",
              "      <th>ink</th>\n",
              "      <th>paper</th>\n",
              "      <th>printer</th>\n",
              "      <th>box</th>\n",
              "      <th>sheets</th>\n",
              "    </tr>\n",
              "  </thead>\n",
              "  <tbody>\n",
              "    <tr>\n",
              "      <th>1495</th>\n",
              "      <td>ink stain</td>\n",
              "      <td>sticking papers</td>\n",
              "      <td>equipment printer</td>\n",
              "      <td>boxes closed.scotch</td>\n",
              "      <td>sheets amazing.i</td>\n",
              "    </tr>\n",
              "    <tr>\n",
              "      <th>1496</th>\n",
              "      <td>replacing inkjet</td>\n",
              "      <td>labeling paper</td>\n",
              "      <td>printers initially</td>\n",
              "      <td>boxes stable</td>\n",
              "      <td>turning sheets.you</td>\n",
              "    </tr>\n",
              "    <tr>\n",
              "      <th>1497</th>\n",
              "      <td>paper/ ink</td>\n",
              "      <td>square paper</td>\n",
              "      <td>printer retails</td>\n",
              "      <td>boxes nice</td>\n",
              "      <td>lighter sheets</td>\n",
              "    </tr>\n",
              "    <tr>\n",
              "      <th>1498</th>\n",
              "      <td>link [</td>\n",
              "      <td>paper involved</td>\n",
              "      <td>printers plus</td>\n",
              "      <td>holds boxes</td>\n",
              "      <td>40 sheets.i</td>\n",
              "    </tr>\n",
              "    <tr>\n",
              "      <th>1499</th>\n",
              "      <td>ink owl</td>\n",
              "      <td>delicate paper</td>\n",
              "      <td>pro9500 printer</td>\n",
              "      <td>boxes particularly</td>\n",
              "      <td>sheets.i successfully</td>\n",
              "    </tr>\n",
              "  </tbody>\n",
              "</table>\n",
              "</div>\n",
              "      <button class=\"colab-df-convert\" onclick=\"convertToInteractive('df-9b7e1d5b-7387-4c60-8bb4-b74c944e8257')\"\n",
              "              title=\"Convert this dataframe to an interactive table.\"\n",
              "              style=\"display:none;\">\n",
              "        \n",
              "  <svg xmlns=\"http://www.w3.org/2000/svg\" height=\"24px\"viewBox=\"0 0 24 24\"\n",
              "       width=\"24px\">\n",
              "    <path d=\"M0 0h24v24H0V0z\" fill=\"none\"/>\n",
              "    <path d=\"M18.56 5.44l.94 2.06.94-2.06 2.06-.94-2.06-.94-.94-2.06-.94 2.06-2.06.94zm-11 1L8.5 8.5l.94-2.06 2.06-.94-2.06-.94L8.5 2.5l-.94 2.06-2.06.94zm10 10l.94 2.06.94-2.06 2.06-.94-2.06-.94-.94-2.06-.94 2.06-2.06.94z\"/><path d=\"M17.41 7.96l-1.37-1.37c-.4-.4-.92-.59-1.43-.59-.52 0-1.04.2-1.43.59L10.3 9.45l-7.72 7.72c-.78.78-.78 2.05 0 2.83L4 21.41c.39.39.9.59 1.41.59.51 0 1.02-.2 1.41-.59l7.78-7.78 2.81-2.81c.8-.78.8-2.07 0-2.86zM5.41 20L4 18.59l7.72-7.72 1.47 1.35L5.41 20z\"/>\n",
              "  </svg>\n",
              "      </button>\n",
              "      \n",
              "  <style>\n",
              "    .colab-df-container {\n",
              "      display:flex;\n",
              "      flex-wrap:wrap;\n",
              "      gap: 12px;\n",
              "    }\n",
              "\n",
              "    .colab-df-convert {\n",
              "      background-color: #E8F0FE;\n",
              "      border: none;\n",
              "      border-radius: 50%;\n",
              "      cursor: pointer;\n",
              "      display: none;\n",
              "      fill: #1967D2;\n",
              "      height: 32px;\n",
              "      padding: 0 0 0 0;\n",
              "      width: 32px;\n",
              "    }\n",
              "\n",
              "    .colab-df-convert:hover {\n",
              "      background-color: #E2EBFA;\n",
              "      box-shadow: 0px 1px 2px rgba(60, 64, 67, 0.3), 0px 1px 3px 1px rgba(60, 64, 67, 0.15);\n",
              "      fill: #174EA6;\n",
              "    }\n",
              "\n",
              "    [theme=dark] .colab-df-convert {\n",
              "      background-color: #3B4455;\n",
              "      fill: #D2E3FC;\n",
              "    }\n",
              "\n",
              "    [theme=dark] .colab-df-convert:hover {\n",
              "      background-color: #434B5C;\n",
              "      box-shadow: 0px 1px 3px 1px rgba(0, 0, 0, 0.15);\n",
              "      filter: drop-shadow(0px 1px 2px rgba(0, 0, 0, 0.3));\n",
              "      fill: #FFFFFF;\n",
              "    }\n",
              "  </style>\n",
              "\n",
              "      <script>\n",
              "        const buttonEl =\n",
              "          document.querySelector('#df-9b7e1d5b-7387-4c60-8bb4-b74c944e8257 button.colab-df-convert');\n",
              "        buttonEl.style.display =\n",
              "          google.colab.kernel.accessAllowed ? 'block' : 'none';\n",
              "\n",
              "        async function convertToInteractive(key) {\n",
              "          const element = document.querySelector('#df-9b7e1d5b-7387-4c60-8bb4-b74c944e8257');\n",
              "          const dataTable =\n",
              "            await google.colab.kernel.invokeFunction('convertToInteractive',\n",
              "                                                     [key], {});\n",
              "          if (!dataTable) return;\n",
              "\n",
              "          const docLinkHtml = 'Like what you see? Visit the ' +\n",
              "            '<a target=\"_blank\" href=https://colab.research.google.com/notebooks/data_table.ipynb>data table notebook</a>'\n",
              "            + ' to learn more about interactive tables.';\n",
              "          element.innerHTML = '';\n",
              "          dataTable['output_type'] = 'display_data';\n",
              "          await google.colab.output.renderOutput(dataTable, element);\n",
              "          const docLink = document.createElement('div');\n",
              "          docLink.innerHTML = docLinkHtml;\n",
              "          element.appendChild(docLink);\n",
              "        }\n",
              "      </script>\n",
              "    </div>\n",
              "  </div>\n",
              "  "
            ]
          },
          "metadata": {},
          "execution_count": 230
        }
      ]
    },
    {
      "cell_type": "markdown",
      "source": [
        "### триграммы"
      ],
      "metadata": {
        "id": "pgNsx9e9pwK5"
      }
    },
    {
      "cell_type": "code",
      "source": [
        "trigram = get_ngrams(' '.join(reviews['lemm_text']).split(), 3)"
      ],
      "metadata": {
        "id": "yFWJSJhPpCa8"
      },
      "execution_count": null,
      "outputs": []
    },
    {
      "cell_type": "code",
      "source": [
        "def get_trigrams(product):\n",
        "  l = []\n",
        "  for b in Counter(trigram).most_common():\n",
        "    if product in b[0]:\n",
        "      # хорошо бы еще почистить от стоп-слов\n",
        "      if not any(word in stop_words for word in b[0].split()):\n",
        "          l.append(b[0])\n",
        "  return l"
      ],
      "metadata": {
        "id": "vF_Z_2_gqAp1"
      },
      "execution_count": null,
      "outputs": []
    },
    {
      "cell_type": "code",
      "source": [
        "ink = get_trigrams('ink')\n",
        "printer = get_trigrams('printer')\n",
        "box =  get_trigrams('box')\n",
        "sheets = get_trigrams('sheets')\n",
        "ink[0]"
      ],
      "metadata": {
        "colab": {
          "base_uri": "https://localhost:8080/",
          "height": 35
        },
        "id": "bAteUNzRp1tV",
        "outputId": "1a881830-11ef-451f-810a-a8360429ae7f"
      },
      "execution_count": null,
      "outputs": [
        {
          "output_type": "execute_result",
          "data": {
            "text/plain": [
              "'ink jet printer'"
            ],
            "application/vnd.google.colaboratory.intrinsic+json": {
              "type": "string"
            }
          },
          "metadata": {},
          "execution_count": 233
        }
      ]
    },
    {
      "cell_type": "code",
      "source": [
        "paper = get_trigrams('paper')"
      ],
      "metadata": {
        "id": "ZuYdUn3JqTNa"
      },
      "execution_count": null,
      "outputs": []
    },
    {
      "cell_type": "code",
      "source": [
        "ink = ink[0:1500]\n",
        "paper = paper[0:1500]\n",
        "printer = printer[0:1500]\n",
        "box = box[0:1500]\n",
        "sheets = sheets[0:1500]"
      ],
      "metadata": {
        "id": "bl19BabHqXAV"
      },
      "execution_count": null,
      "outputs": []
    },
    {
      "cell_type": "code",
      "source": [
        "df_trigram = pd.DataFrame({ \n",
        "    'ink': ink,\n",
        "    'paper': paper,\n",
        "    'printer': printer,\n",
        "    'box': box,\n",
        "    'sheets': sheets }) \n",
        "df_trigram.head(5)"
      ],
      "metadata": {
        "colab": {
          "base_uri": "https://localhost:8080/",
          "height": 206
        },
        "id": "MDqYg2w_qbGc",
        "outputId": "815c42b6-9db9-45be-b992-24c656be2617"
      },
      "execution_count": null,
      "outputs": [
        {
          "output_type": "execute_result",
          "data": {
            "text/plain": [
              "                    ink                paper               printer  \\\n",
              "0       ink jet printer   glossy photo paper     printer / scanner   \n",
              "1  color inkjet printer      two paper trays       ink jet printer   \n",
              "2   black ink cartridge  premium photo paper   color laser printer   \n",
              "3      ink jet printers   good quality paper  color inkjet printer   \n",
              "4      one color inkjet    canon photo paper      ink jet printers   \n",
              "\n",
              "                box             sheets  \n",
              "0   banker 's boxes   staple 20 sheets  \n",
              "1  box sealing tape        x 11 sheets  \n",
              "2     big box store  inches 100 sheets  \n",
              "3       mo file box   holds 250 sheets  \n",
              "4     banker 's box    sheets per pack  "
            ],
            "text/html": [
              "\n",
              "  <div id=\"df-bbd4eb4e-f924-48c5-abda-a36144803201\">\n",
              "    <div class=\"colab-df-container\">\n",
              "      <div>\n",
              "<style scoped>\n",
              "    .dataframe tbody tr th:only-of-type {\n",
              "        vertical-align: middle;\n",
              "    }\n",
              "\n",
              "    .dataframe tbody tr th {\n",
              "        vertical-align: top;\n",
              "    }\n",
              "\n",
              "    .dataframe thead th {\n",
              "        text-align: right;\n",
              "    }\n",
              "</style>\n",
              "<table border=\"1\" class=\"dataframe\">\n",
              "  <thead>\n",
              "    <tr style=\"text-align: right;\">\n",
              "      <th></th>\n",
              "      <th>ink</th>\n",
              "      <th>paper</th>\n",
              "      <th>printer</th>\n",
              "      <th>box</th>\n",
              "      <th>sheets</th>\n",
              "    </tr>\n",
              "  </thead>\n",
              "  <tbody>\n",
              "    <tr>\n",
              "      <th>0</th>\n",
              "      <td>ink jet printer</td>\n",
              "      <td>glossy photo paper</td>\n",
              "      <td>printer / scanner</td>\n",
              "      <td>banker 's boxes</td>\n",
              "      <td>staple 20 sheets</td>\n",
              "    </tr>\n",
              "    <tr>\n",
              "      <th>1</th>\n",
              "      <td>color inkjet printer</td>\n",
              "      <td>two paper trays</td>\n",
              "      <td>ink jet printer</td>\n",
              "      <td>box sealing tape</td>\n",
              "      <td>x 11 sheets</td>\n",
              "    </tr>\n",
              "    <tr>\n",
              "      <th>2</th>\n",
              "      <td>black ink cartridge</td>\n",
              "      <td>premium photo paper</td>\n",
              "      <td>color laser printer</td>\n",
              "      <td>big box store</td>\n",
              "      <td>inches 100 sheets</td>\n",
              "    </tr>\n",
              "    <tr>\n",
              "      <th>3</th>\n",
              "      <td>ink jet printers</td>\n",
              "      <td>good quality paper</td>\n",
              "      <td>color inkjet printer</td>\n",
              "      <td>mo file box</td>\n",
              "      <td>holds 250 sheets</td>\n",
              "    </tr>\n",
              "    <tr>\n",
              "      <th>4</th>\n",
              "      <td>one color inkjet</td>\n",
              "      <td>canon photo paper</td>\n",
              "      <td>ink jet printers</td>\n",
              "      <td>banker 's box</td>\n",
              "      <td>sheets per pack</td>\n",
              "    </tr>\n",
              "  </tbody>\n",
              "</table>\n",
              "</div>\n",
              "      <button class=\"colab-df-convert\" onclick=\"convertToInteractive('df-bbd4eb4e-f924-48c5-abda-a36144803201')\"\n",
              "              title=\"Convert this dataframe to an interactive table.\"\n",
              "              style=\"display:none;\">\n",
              "        \n",
              "  <svg xmlns=\"http://www.w3.org/2000/svg\" height=\"24px\"viewBox=\"0 0 24 24\"\n",
              "       width=\"24px\">\n",
              "    <path d=\"M0 0h24v24H0V0z\" fill=\"none\"/>\n",
              "    <path d=\"M18.56 5.44l.94 2.06.94-2.06 2.06-.94-2.06-.94-.94-2.06-.94 2.06-2.06.94zm-11 1L8.5 8.5l.94-2.06 2.06-.94-2.06-.94L8.5 2.5l-.94 2.06-2.06.94zm10 10l.94 2.06.94-2.06 2.06-.94-2.06-.94-.94-2.06-.94 2.06-2.06.94z\"/><path d=\"M17.41 7.96l-1.37-1.37c-.4-.4-.92-.59-1.43-.59-.52 0-1.04.2-1.43.59L10.3 9.45l-7.72 7.72c-.78.78-.78 2.05 0 2.83L4 21.41c.39.39.9.59 1.41.59.51 0 1.02-.2 1.41-.59l7.78-7.78 2.81-2.81c.8-.78.8-2.07 0-2.86zM5.41 20L4 18.59l7.72-7.72 1.47 1.35L5.41 20z\"/>\n",
              "  </svg>\n",
              "      </button>\n",
              "      \n",
              "  <style>\n",
              "    .colab-df-container {\n",
              "      display:flex;\n",
              "      flex-wrap:wrap;\n",
              "      gap: 12px;\n",
              "    }\n",
              "\n",
              "    .colab-df-convert {\n",
              "      background-color: #E8F0FE;\n",
              "      border: none;\n",
              "      border-radius: 50%;\n",
              "      cursor: pointer;\n",
              "      display: none;\n",
              "      fill: #1967D2;\n",
              "      height: 32px;\n",
              "      padding: 0 0 0 0;\n",
              "      width: 32px;\n",
              "    }\n",
              "\n",
              "    .colab-df-convert:hover {\n",
              "      background-color: #E2EBFA;\n",
              "      box-shadow: 0px 1px 2px rgba(60, 64, 67, 0.3), 0px 1px 3px 1px rgba(60, 64, 67, 0.15);\n",
              "      fill: #174EA6;\n",
              "    }\n",
              "\n",
              "    [theme=dark] .colab-df-convert {\n",
              "      background-color: #3B4455;\n",
              "      fill: #D2E3FC;\n",
              "    }\n",
              "\n",
              "    [theme=dark] .colab-df-convert:hover {\n",
              "      background-color: #434B5C;\n",
              "      box-shadow: 0px 1px 3px 1px rgba(0, 0, 0, 0.15);\n",
              "      filter: drop-shadow(0px 1px 2px rgba(0, 0, 0, 0.3));\n",
              "      fill: #FFFFFF;\n",
              "    }\n",
              "  </style>\n",
              "\n",
              "      <script>\n",
              "        const buttonEl =\n",
              "          document.querySelector('#df-bbd4eb4e-f924-48c5-abda-a36144803201 button.colab-df-convert');\n",
              "        buttonEl.style.display =\n",
              "          google.colab.kernel.accessAllowed ? 'block' : 'none';\n",
              "\n",
              "        async function convertToInteractive(key) {\n",
              "          const element = document.querySelector('#df-bbd4eb4e-f924-48c5-abda-a36144803201');\n",
              "          const dataTable =\n",
              "            await google.colab.kernel.invokeFunction('convertToInteractive',\n",
              "                                                     [key], {});\n",
              "          if (!dataTable) return;\n",
              "\n",
              "          const docLinkHtml = 'Like what you see? Visit the ' +\n",
              "            '<a target=\"_blank\" href=https://colab.research.google.com/notebooks/data_table.ipynb>data table notebook</a>'\n",
              "            + ' to learn more about interactive tables.';\n",
              "          element.innerHTML = '';\n",
              "          dataTable['output_type'] = 'display_data';\n",
              "          await google.colab.output.renderOutput(dataTable, element);\n",
              "          const docLink = document.createElement('div');\n",
              "          docLink.innerHTML = docLinkHtml;\n",
              "          element.appendChild(docLink);\n",
              "        }\n",
              "      </script>\n",
              "    </div>\n",
              "  </div>\n",
              "  "
            ]
          },
          "metadata": {},
          "execution_count": 236
        }
      ]
    },
    {
      "cell_type": "code",
      "source": [
        "del ink \n",
        "del paper\n",
        "del printer\n",
        "del box\n",
        "del sheets"
      ],
      "metadata": {
        "id": "_m_8SfUrqfGe"
      },
      "execution_count": null,
      "outputs": []
    },
    {
      "cell_type": "markdown",
      "source": [
        "### Теперь соберем n-граммы со всем полученными сущностями (то же самое, но только не топ-5)"
      ],
      "metadata": {
        "id": "KTtfoPoFBn30"
      }
    },
    {
      "cell_type": "code",
      "source": [
        "# возьмем топ-30 категорий\n",
        "categories = [name for name, count in Counter(comp_intersection(zip(title_clear, review_lemm))).most_common(30) ]\n",
        "categories.remove('size')\n",
        "categories.remove('color')"
      ],
      "metadata": {
        "id": "Zev6JPYkAgup"
      },
      "execution_count": 545,
      "outputs": []
    },
    {
      "cell_type": "code",
      "source": [
        "all_bigrams = []\n",
        "for cat in tqdm(categories):\n",
        "  all_bigrams.extend(get_bigrams(cat))"
      ],
      "metadata": {
        "colab": {
          "base_uri": "https://localhost:8080/",
          "height": 49,
          "referenced_widgets": [
            "71bfacc3acc0487cb2215b614e178222",
            "9c964303c91644ff8224720d69fac4f9",
            "63a5c766cdcd4689b77b58ee52f7c064",
            "36c0cb466fec4f15b6cf9c73119669e6",
            "7fd44bba23c841f7b4dc7a070f112b25",
            "4d0b23d6109c466b85ccc67bfb972b24",
            "e66b7ee31c32499893d3ef21be273214",
            "dfe994ae75994ee6828e9481778b9835",
            "faebb0bf74474976bdb2914c0473df9a",
            "446c97a1f03c4d769f0380d2e8da4b6e",
            "964997bd737d4c9ca89580859855c6cc"
          ]
        },
        "id": "YeCCuGYJBiDJ",
        "outputId": "fbb65cd7-8edb-4b64-ddb7-af8cccdfa5c7"
      },
      "execution_count": 546,
      "outputs": [
        {
          "output_type": "display_data",
          "data": {
            "text/plain": [
              "  0%|          | 0/28 [00:00<?, ?it/s]"
            ],
            "application/vnd.jupyter.widget-view+json": {
              "version_major": 2,
              "version_minor": 0,
              "model_id": "71bfacc3acc0487cb2215b614e178222"
            }
          },
          "metadata": {}
        }
      ]
    },
    {
      "cell_type": "markdown",
      "source": [
        "#  Ранжирование n-грамм с помощью 3 коллокационных метрик"
      ],
      "metadata": {
        "id": "Kp4i6VgZqnxH"
      }
    },
    {
      "cell_type": "code",
      "source": [
        "bigram_measures = nltk.collocations.BigramAssocMeasures()\n",
        "finder = BigramCollocationFinder.from_words(all_bigrams)\n",
        "finder.apply_freq_filter(3) "
      ],
      "metadata": {
        "id": "mKQ2gEM4rBQa"
      },
      "execution_count": 552,
      "outputs": []
    },
    {
      "cell_type": "markdown",
      "source": [
        "Likelihood"
      ],
      "metadata": {
        "id": "i4R6vw6ZsXRT"
      }
    },
    {
      "cell_type": "code",
      "source": [
        "finder.score_ngrams(bigram_measures.likelihood_ratio)[-8:] # выведем часть"
      ],
      "metadata": {
        "id": "qA-UV7lcxN-V",
        "colab": {
          "base_uri": "https://localhost:8080/"
        },
        "outputId": "59c4d867-7b8e-482c-c402-0ff13cf64292"
      },
      "execution_count": 553,
      "outputs": [
        {
          "output_type": "execute_result",
          "data": {
            "text/plain": [
              "[(('sheets pass', 'inches,20 sheets'), 17.80383944494495),\n",
              " (('sheets/120 pages', 'sheets connected'), 17.80383944494495),\n",
              " (('bookmark pages', 'pages use'), 17.43695881906198),\n",
              " (('cartridge inkbecause', 'usecons:-ink cartridge'), 17.43695881906198),\n",
              " (('pages bookmarked', 'files pages'), 17.43695881906198),\n",
              " (('pages.i think', 'used pages.what'), 17.43695881906198),\n",
              " (('settings pages', 'scrapbook pages.like'), 17.43695881906198),\n",
              " (('size sheets&#8226;set', 'package.)the sheets'), 17.43695881906198)]"
            ]
          },
          "metadata": {},
          "execution_count": 553
        }
      ]
    },
    {
      "cell_type": "markdown",
      "source": [
        "PMI"
      ],
      "metadata": {
        "id": "jCiRqZeJDgJO"
      }
    },
    {
      "cell_type": "code",
      "source": [
        "finder.score_ngrams(bigram_measures.pmi)[-8:] # выведем часть"
      ],
      "metadata": {
        "colab": {
          "base_uri": "https://localhost:8080/"
        },
        "id": "BzoeX4Hi9__K",
        "outputId": "4eb28a2e-f8d1-4f72-a82c-244c25e0b1ff"
      },
      "execution_count": 554,
      "outputs": [
        {
          "output_type": "execute_result",
          "data": {
            "text/plain": [
              "[(('sheets pass', 'inches,20 sheets'), 13.64513770294371),\n",
              " (('sheets/120 pages', 'sheets connected'), 13.64513770294371),\n",
              " (('bookmark pages', 'pages use'), 13.475212701501398),\n",
              " (('cartridge inkbecause', 'usecons:-ink cartridge'), 13.475212701501398),\n",
              " (('pages bookmarked', 'files pages'), 13.475212701501398),\n",
              " (('pages.i think', 'used pages.what'), 13.475212701501398),\n",
              " (('settings pages', 'scrapbook pages.like'), 13.475212701501398),\n",
              " (('size sheets&#8226;set', 'package.)the sheets'), 13.475212701501398)]"
            ]
          },
          "metadata": {},
          "execution_count": 554
        }
      ]
    },
    {
      "cell_type": "markdown",
      "source": [
        "Student"
      ],
      "metadata": {
        "id": "EqmfeJ6bHI8I"
      }
    },
    {
      "cell_type": "code",
      "source": [
        "finder.score_ngrams(bigram_measures.student_t)[-8:] # выведем часть"
      ],
      "metadata": {
        "colab": {
          "base_uri": "https://localhost:8080/"
        },
        "id": "A3bzFnsrHIdb",
        "outputId": "5da49acb-aa31-4a73-d71f-8121a503eca3"
      },
      "execution_count": 555,
      "outputs": [
        {
          "output_type": "execute_result",
          "data": {
            "text/plain": [
              "[(('sheets pass', 'inches,20 sheets'), 0.9999219443658468),\n",
              " (('sheets/120 pages', 'sheets connected'), 0.9999219443658468),\n",
              " (('bookmark pages', 'pages use'), 0.9999121874115776),\n",
              " (('cartridge inkbecause', 'usecons:-ink cartridge'), 0.9999121874115776),\n",
              " (('pages bookmarked', 'files pages'), 0.9999121874115776),\n",
              " (('pages.i think', 'used pages.what'), 0.9999121874115776),\n",
              " (('settings pages', 'scrapbook pages.like'), 0.9999121874115776),\n",
              " (('size sheets&#8226;set', 'package.)the sheets'), 0.9999121874115776)]"
            ]
          },
          "metadata": {},
          "execution_count": 555
        }
      ]
    },
    {
      "cell_type": "markdown",
      "source": [
        "Выведем топ для полученных раннее 5 категорий"
      ],
      "metadata": {
        "id": "hMEwL2tiH65x"
      }
    },
    {
      "cell_type": "code",
      "source": [
        "office_products"
      ],
      "metadata": {
        "colab": {
          "base_uri": "https://localhost:8080/"
        },
        "id": "Rlw-cYAlH3qa",
        "outputId": "207de87b-e3db-451f-bccd-da051420b461"
      },
      "execution_count": 556,
      "outputs": [
        {
          "output_type": "execute_result",
          "data": {
            "text/plain": [
              "['paper', 'ink', 'printer', 'box', 'sheets']"
            ]
          },
          "metadata": {},
          "execution_count": 556
        }
      ]
    },
    {
      "cell_type": "code",
      "source": [
        "coll = finder.score_ngrams(bigram_measures.likelihood_ratio)"
      ],
      "metadata": {
        "id": "KSnBAC4lIES4"
      },
      "execution_count": 557,
      "outputs": []
    },
    {
      "cell_type": "code",
      "source": [
        "def create_categories(name):\n",
        "  l = []\n",
        "  for i in coll:\n",
        "    if name == i[0][0].split()[1] or name == i[0][0].split()[0]:\n",
        "        # добавим еще фильтр с POS-тегами, чтобы не выводилась ерунда\n",
        "        pos = (' '.join([token.pos_ for token in nlp(i[0][0])]))    \n",
        "        if pos == 'VERB NOUN' or pos == 'ADJ NOUN' or pos  == 'NOUN ADJ' or pos == 'NOUN NOUN':\n",
        "          clear = [''.join(w for w in i[0][1] if w not in punctuation and w not in digits) ]\n",
        "          \n",
        "          if len([x for x in clear[0].split(' ') if x]) > 1:\n",
        "            l.append(clear)\n",
        "  return l"
      ],
      "metadata": {
        "id": "e-WH9BokJJvT"
      },
      "execution_count": 612,
      "outputs": []
    },
    {
      "cell_type": "code",
      "source": [
        "for p in office_products:\n",
        "  print('Result for ', p)\n",
        "  print(create_categories(p)[0:5])\n",
        "  print('--------------------')"
      ],
      "metadata": {
        "colab": {
          "base_uri": "https://localhost:8080/"
        },
        "id": "gp1QBVtrMhnE",
        "outputId": "ded40fb2-3b3e-4cbb-9bd5-e22cd1ae76ed"
      },
      "execution_count": 613,
      "outputs": [
        {
          "output_type": "stream",
          "name": "stdout",
          "text": [
            "Result for  paper\n",
            "[['paper covers'], ['sheetspros looks'], ['confettied sheets'], ['adherent paper'], ['letter paper']]\n",
            "--------------------\n",
            "Result for  ink\n",
            "[['ink cartridgesxl'], ['cartridgeconsokay ink'], ['ink cartridgesteps'], ['ink cartridgesso'], ['cartridgesreplacement ink']]\n",
            "--------------------\n",
            "Result for  printer\n",
            "[['anvilmultiple sheets'], ['printer end'], ['epsonthe printer'], ['printerlike nancy'], ['printers controls']]\n",
            "--------------------\n",
            "Result for  box\n",
            "[['boxes match'], ['count boxtake'], ['box shell'], ['box checked'], ['envelopes boxes']]\n",
            "--------------------\n",
            "Result for  sheets\n",
            "[['towels sheets'], ['sheets x'], ['sheets shredded'], ['numerous sheets'], ['sheets top']]\n",
            "--------------------\n"
          ]
        }
      ]
    },
    {
      "cell_type": "code",
      "source": [
        "# сравним с pmi\n",
        "coll = finder.score_ngrams(bigram_measures.pmi)\n",
        "for p in office_products:\n",
        "  print('Result for ', p)\n",
        "  print(create_categories(p)[0:5])\n",
        "  print('--------------------')"
      ],
      "metadata": {
        "colab": {
          "base_uri": "https://localhost:8080/"
        },
        "id": "hyywCg1-p5ul",
        "outputId": "80d39537-e87b-4323-ec47-46a85c3c897b"
      },
      "execution_count": 615,
      "outputs": [
        {
          "output_type": "stream",
          "name": "stdout",
          "text": [
            "Result for  paper\n",
            "[['adherent paper'], ['letter paper'], ['prohext papers'], ['paper changing'], ['paperport menu']]\n",
            "--------------------\n",
            "Result for  ink\n",
            "[['link intuitive'], ['ink across'], ['blanc inks'], ['ink loose'], ['r inkjet']]\n",
            "--------------------\n",
            "Result for  printer\n",
            "[['printer end'], ['epsonthe printer'], ['printerlike nancy'], ['printers controls'], ['printer cablein']]\n",
            "--------------------\n",
            "Result for  box\n",
            "[['boxes match'], ['count boxtake'], ['box shell'], ['box checked'], ['envelopes boxes']]\n",
            "--------------------\n",
            "Result for  sheets\n",
            "[['towels sheets'], ['sheets x'], ['sheets shredded'], ['numerous sheets'], ['sheets top']]\n",
            "--------------------\n"
          ]
        }
      ]
    },
    {
      "cell_type": "markdown",
      "source": [
        "Мне кажется, likelihood все-же находит что-то более полезное, туда попадают названия марок, но все же много мусора"
      ],
      "metadata": {
        "id": "__IZHFuRq8hX"
      }
    },
    {
      "cell_type": "markdown",
      "source": [
        "Вышло не совсем так, как хотелось бы, но дополнительные фильтры с пос-тегами и отсеиванием цифр с пунктуацией заметно улучшили результат "
      ],
      "metadata": {
        "id": "9vSpfc0ihXd1"
      }
    },
    {
      "cell_type": "markdown",
      "source": [],
      "metadata": {
        "id": "UT2_S8E8lluX"
      }
    }
  ]
}